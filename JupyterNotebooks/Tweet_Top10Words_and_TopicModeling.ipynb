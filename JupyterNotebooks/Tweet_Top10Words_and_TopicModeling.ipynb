{
 "cells": [
  {
   "cell_type": "markdown",
   "metadata": {},
   "source": [
    "# Tweet Top 10 Words"
   ]
  },
  {
   "cell_type": "code",
   "execution_count": 17,
   "metadata": {},
   "outputs": [],
   "source": [
    "import pandas as pd\n",
    "import spacy\n",
    "from sklearn.feature_extraction.text import CountVectorizer\n",
    "import numpy as np\n",
    "import matplotlib.pyplot as plt\n",
    "import seaborn as sns\n",
    "import os\n",
    "data = pd.read_csv('cleanedTweetText.csv', sep=',', encoding='utf-8')\n",
    "\n"
   ]
  },
  {
   "cell_type": "code",
   "execution_count": 2,
   "metadata": {},
   "outputs": [
    {
     "data": {
      "text/html": [
       "<div>\n",
       "<style scoped>\n",
       "    .dataframe tbody tr th:only-of-type {\n",
       "        vertical-align: middle;\n",
       "    }\n",
       "\n",
       "    .dataframe tbody tr th {\n",
       "        vertical-align: top;\n",
       "    }\n",
       "\n",
       "    .dataframe thead th {\n",
       "        text-align: right;\n",
       "    }\n",
       "</style>\n",
       "<table border=\"1\" class=\"dataframe\">\n",
       "  <thead>\n",
       "    <tr style=\"text-align: right;\">\n",
       "      <th></th>\n",
       "      <th>Unnamed: 0</th>\n",
       "      <th>PublishDate</th>\n",
       "      <th>Tweets</th>\n",
       "      <th>CleanedTweet</th>\n",
       "    </tr>\n",
       "  </thead>\n",
       "  <tbody>\n",
       "    <tr>\n",
       "      <th>0</th>\n",
       "      <td>0</td>\n",
       "      <td>4/20/20 21:04</td>\n",
       "      <td>Just across Dutch border, study following 1,00...</td>\n",
       "      <td>['border', 'study', 'people', 'plan', 'deal', ...</td>\n",
       "    </tr>\n",
       "    <tr>\n",
       "      <th>1</th>\n",
       "      <td>1</td>\n",
       "      <td>4/20/20 21:00</td>\n",
       "      <td>North Carolina's top health official said that...</td>\n",
       "      <td>['health', 'result', 'death', 'state', 'month'...</td>\n",
       "    </tr>\n",
       "    <tr>\n",
       "      <th>2</th>\n",
       "      <td>2</td>\n",
       "      <td>4/20/20 21:00</td>\n",
       "      <td>Millions of Americans &amp; their children were le...</td>\n",
       "      <td>['child', 'package', 'immigration', 'technical...</td>\n",
       "    </tr>\n",
       "    <tr>\n",
       "      <th>3</th>\n",
       "      <td>3</td>\n",
       "      <td>4/20/20 21:00</td>\n",
       "      <td>All the experts say we need to greatly expand ...</td>\n",
       "      <td>['expert', 'testing', 'capacity', 'promise', '...</td>\n",
       "    </tr>\n",
       "    <tr>\n",
       "      <th>4</th>\n",
       "      <td>4</td>\n",
       "      <td>4/20/20 21:00</td>\n",
       "      <td>WATCH: The 5 teenage girls on this robotics te...</td>\n",
       "      <td>['girl', 'team', 'use', 'part', 'ventilator', ...</td>\n",
       "    </tr>\n",
       "  </tbody>\n",
       "</table>\n",
       "</div>"
      ],
      "text/plain": [
       "   Unnamed: 0    PublishDate  \\\n",
       "0           0  4/20/20 21:04   \n",
       "1           1  4/20/20 21:00   \n",
       "2           2  4/20/20 21:00   \n",
       "3           3  4/20/20 21:00   \n",
       "4           4  4/20/20 21:00   \n",
       "\n",
       "                                              Tweets  \\\n",
       "0  Just across Dutch border, study following 1,00...   \n",
       "1  North Carolina's top health official said that...   \n",
       "2  Millions of Americans & their children were le...   \n",
       "3  All the experts say we need to greatly expand ...   \n",
       "4  WATCH: The 5 teenage girls on this robotics te...   \n",
       "\n",
       "                                        CleanedTweet  \n",
       "0  ['border', 'study', 'people', 'plan', 'deal', ...  \n",
       "1  ['health', 'result', 'death', 'state', 'month'...  \n",
       "2  ['child', 'package', 'immigration', 'technical...  \n",
       "3  ['expert', 'testing', 'capacity', 'promise', '...  \n",
       "4  ['girl', 'team', 'use', 'part', 'ventilator', ...  "
      ]
     },
     "execution_count": 2,
     "metadata": {},
     "output_type": "execute_result"
    }
   ],
   "source": [
    "data.head()\n"
   ]
  },
  {
   "cell_type": "code",
   "execution_count": 3,
   "metadata": {},
   "outputs": [
    {
     "data": {
      "text/plain": [
       "0    ['border', 'study', 'people', 'plan', 'deal', ...\n",
       "1    ['health', 'result', 'death', 'state', 'month'...\n",
       "2    ['child', 'package', 'immigration', 'technical...\n",
       "3    ['expert', 'testing', 'capacity', 'promise', '...\n",
       "4    ['girl', 'team', 'use', 'part', 'ventilator', ...\n",
       "Name: CleanedTweet, dtype: object"
      ]
     },
     "execution_count": 3,
     "metadata": {},
     "output_type": "execute_result"
    }
   ],
   "source": [
    "data[\"CleanedTweet\"].head()"
   ]
  },
  {
   "cell_type": "code",
   "execution_count": 4,
   "metadata": {},
   "outputs": [],
   "source": [
    "# initialize clean list variable and list for all the words once the data has been processed\n",
    "cleanlist = []\n",
    "fullWordList = []\n"
   ]
  },
  {
   "cell_type": "code",
   "execution_count": 5,
   "metadata": {},
   "outputs": [],
   "source": [
    "# load 'en' model from spacy and initialize an empty string to use for the top 10 words \n",
    "nlp = spacy.load('en')\n",
    "cleanedTweetWords = ''"
   ]
  },
  {
   "cell_type": "code",
   "execution_count": 6,
   "metadata": {},
   "outputs": [],
   "source": [
    "# use this if you need to save on processing power and don't want to use the entire dataset\n",
    "# for i in range(len(10))\n",
    "\n",
    "for i in range(len(data)):\n",
    "    dataAfterLemmaFilter = []\n",
    "    cleanTweet = data.loc[i, \"CleanedTweet\"]\n",
    "\n",
    "    doc = nlp(cleanTweet)\n",
    "\n",
    "    if cleanTweet != '':\n",
    "        for token in doc:\n",
    "            dataAfterLemmaFilter.append(token.lemma_)\n",
    "\n",
    "        removelist = ['[', ']', '\\'', ',', 'https', \":\", \"/\"]\n",
    "\n",
    "        for item in dataAfterLemmaFilter:\n",
    "            if item not in removelist:\n",
    "                cleanlist.append(item)"
   ]
  },
  {
   "cell_type": "code",
   "execution_count": 7,
   "metadata": {},
   "outputs": [],
   "source": [
    "#append each cleaned word to an empty string \n",
    "for word in cleanlist:\n",
    "    cleanedTweetWords = cleanedTweetWords + ' ' + word"
   ]
  },
  {
   "cell_type": "code",
   "execution_count": null,
   "metadata": {
    "scrolled": true
   },
   "outputs": [],
   "source": [
    "# print(cleanedTweetWords) do this if you want to see the entire corpus"
   ]
  },
  {
   "cell_type": "code",
   "execution_count": 9,
   "metadata": {},
   "outputs": [],
   "source": [
    "\n",
    "def plotTop10Words(wordcount_data, count_vectorizer):\n",
    "    \n",
    "    words = count_vectorizer.get_feature_names()\n",
    "    total_counts = np.zeros(len(words))\n",
    "    for t in wordcount_data:\n",
    "        total_counts += t.toarray()[0]\n",
    "\n",
    "    count_dictionary = (zip(words, total_counts))\n",
    "    count_dictionary = sorted(count_dictionary, key=lambda x: x[1], reverse=True)[0:10]\n",
    "    words = [w[0] for w in count_dictionary]\n",
    "    counts = [w[1] for w in count_dictionary]\n",
    "    x_pos = np.arange(len(words))\n",
    "\n",
    "    plt.figure(2, figsize=(10, 10 / 1.6180))\n",
    "    plt.subplot(title='10 Most Common Words')\n",
    "    sns.set_context(\"notebook\", font_scale=1.25, rc={\"lines.linewidth\": 2.5})\n",
    "    sns.barplot(x_pos, counts, palette='husl')\n",
    "    plt.xticks(x_pos, words, rotation=90)\n",
    "    plt.xlabel('Words')\n",
    "    plt.ylabel('Count of Words')\n",
    "    plt.show()"
   ]
  },
  {
   "cell_type": "code",
   "execution_count": 12,
   "metadata": {},
   "outputs": [
    {
     "data": {
      "image/png": "[encoded data removed]",
      "text/plain": [
       "<Figure size 720x444.994 with 1 Axes>"
      ]
     },
     "metadata": {
      "needs_background": "light"
     },
     "output_type": "display_data"
    }
   ],
   "source": [
    "count_vectorizer = CountVectorizer(stop_words='english')\n",
    "wordcount_data = count_vectorizer.fit_transform(data['CleanedTweet'])\n",
    "# Plot the top 10 most common words\n",
    "plotTop10Words(wordcount_data, count_vectorizer)"
   ]
  },
  {
   "cell_type": "markdown",
   "metadata": {},
   "source": [
    "# Start of Topic Modeling"
   ]
  },
  {
   "cell_type": "code",
   "execution_count": 14,
   "metadata": {},
   "outputs": [
    {
     "data": {
      "text/plain": [
       "LatentDirichletAllocation(batch_size=128, doc_topic_prior=None,\n",
       "                          evaluate_every=-1, learning_decay=0.7,\n",
       "                          learning_method='batch', learning_offset=10.0,\n",
       "                          max_doc_update_iter=100, max_iter=10,\n",
       "                          mean_change_tol=0.001, n_components=5, n_jobs=-1,\n",
       "                          perp_tol=0.1, random_state=None,\n",
       "                          topic_word_prior=None, total_samples=1000000.0,\n",
       "                          verbose=0)"
      ]
     },
     "execution_count": 14,
     "metadata": {},
     "output_type": "execute_result"
    }
   ],
   "source": [
    "import warnings\n",
    "warnings.simplefilter(\"ignore\", DeprecationWarning)\n",
    "# Load the LDA model from sk-learn library\n",
    "from sklearn.decomposition import LatentDirichletAllocation as LDA\n",
    " \n",
    "# create a function that uses the count_vectorizer initalized for the top 10 words plot to find and print topics \n",
    "# then fit the lda model to the data\n",
    "def print_topics(model, count_vectorizer, n_top_words):\n",
    "    words = count_vectorizer.get_feature_names()\n",
    "    for topic_idx, topic in enumerate(model.components_):\n",
    "        print(\"\\nTopic #%d:\" % topic_idx)\n",
    "        print(\" \".join([words[i]\n",
    "                        for i in topic.argsort()[:-n_top_words - 1:-1]]))\n",
    "        \n",
    "# Set the number of topics and number of words\n",
    "number_topics = 5\n",
    "number_words = 10\n",
    "# Initialize and fit the LDA model\n",
    "lda = LDA(n_components=number_topics, n_jobs=-1)\n",
    "lda.fit(count_data)"
   ]
  },
  {
   "cell_type": "code",
   "execution_count": 15,
   "metadata": {},
   "outputs": [
    {
     "name": "stdout",
     "output_type": "stream",
     "text": [
      "Topics found: \n",
      "\n",
      "Topic #0:\n",
      "people virus force risk time way line health world job\n",
      "\n",
      "Topic #1:\n",
      "case death test report people update number country health home\n",
      "\n",
      "Topic #2:\n",
      "virus time world today help work health year vaccine flu\n",
      "\n",
      "Topic #3:\n",
      "virus travel day government people response use symptom market briefing\n",
      "\n",
      "Topic #4:\n",
      "hospital school week crisis return work question talk family concern\n"
     ]
    }
   ],
   "source": [
    "# Print the topics found by LDA model\n",
    "print(\"Topics found: \")\n",
    "print_topics(lda, count_vectorizer, number_words)"
   ]
  },
  {
   "cell_type": "code",
   "execution_count": 18,
   "metadata": {},
   "outputs": [
    {
     "name": "stdout",
     "output_type": "stream",
     "text": [
      "CPU times: user 2.46 s, sys: 176 ms, total: 2.64 s\n",
      "Wall time: 5.42 s\n"
     ]
    }
   ],
   "source": [
    "%%time\n",
    "from pyLDAvis import sklearn as sklearn_lda\n",
    "import pickle \n",
    "import pyLDAvis\n",
    "LDAvis_data_filepath = os.path.join('./CoronavirusTweetTopics'+str(number_topics))\n",
    "\n",
    "# \n",
    "LDAvis_Prepared = sklearn_lda.prepare(lda, count_data, count_vectorizer)\n",
    "with open(LDAvis_data_filepath, 'wb') as f:\n",
    "    pickle.dump(LDAvis_Prepared, f)\n",
    "        \n",
    "# load the pre-prepared pyLDAvis data from disk and write it to an HTML file for future use\n",
    "with open(LDAvis_data_filepath,'rb') as f:\n",
    "    LDAvis_Prepared = pickle.load(f)\n",
    "    \n",
    "pyLDAvis.save_html(LDAvis_Prepared, './CoronavirusTweetTopics'+ str(number_topics) +'.html')"
   ]
  },
  {
   "cell_type": "code",
   "execution_count": 22,
   "metadata": {},
   "outputs": [
    {
     "data": {
      "text/html": [
       "\n",
       "<link rel=\"stylesheet\" type=\"text/css\" href=\"https://cdn.rawgit.com/bmabey/pyLDAvis/files/ldavis.v1.0.0.css\">\n",
       "\n",
       "\n",
       "<div id=\"ldavis_el406941123423144485996794039\"></div>\n",
       "<script type=\"text/javascript\">\n",
       "\n",
       "var ldavis_el406941123423144485996794039_data = {\"mdsDat\": {\"x\": [-0.06929945002346809, 0.254221896835978, -0.023779274818037033, -0.06036181419544567, -0.10078135779902711], \"y\": [-0.1683092929590654, 0.019263254510884738, -0.029934027167793108, 0.018930496690273142, 0.16004956892570082], \"topics\": [1, 2, 3, 4, 5], \"cluster\": [1, 1, 1, 1, 1], \"Freq\": [23.11573365135645, 22.834285618725524, 18.616332666583418, 18.276564732501015, 17.15708333083359]}, \"tinfo\": {\"Term\": [\"case\", \"death\", \"people\", \"report\", \"hospital\", \"test\", \"number\", \"today\", \"update\", \"time\", \"force\", \"travel\", \"virus\", \"year\", \"vaccine\", \"toll\", \"world\", \"school\", \"line\", \"ship\", \"risk\", \"cruise\", \"country\", \"flu\", \"expert\", \"briefing\", \"lab\", \"symptom\", \"return\", \"question\", \"supply\", \"scientist\", \"vaccine\", \"resource\", \"propaganda\", \"chain\", \"tax\", \"car\", \"daughter\", \"climate\", \"combat\", \"bat\", \"trade\", \"transport\", \"follower\", \"blame\", \"tour\", \"neighbor\", \"friend\", \"trouble\", \"proposal\", \"view\", \"celebrity\", \"victim\", \"wizkid\", \"slash\", \"style\", \"situation\", \"expert\", \"flyer\", \"boost\", \"flu\", \"war\", \"year\", \"today\", \"food\", \"business\", \"support\", \"world\", \"help\", \"time\", \"lockdown\", \"virus\", \"work\", \"thing\", \"cover\", \"health\", \"water\", \"doctor\", \"impact\", \"home\", \"man\", \"country\", \"city\", \"crisis\", \"week\", \"government\", \"case\", \"number\", \"death\", \"toll\", \"ship\", \"cruise\", \"passenger\", \"report\", \"child\", \"resident\", \"plane\", \"personnel\", \"antibody\", \"cases\", \"carrier\", \"minute\", \"port\", \"dorries\", \"goal\", \"fatality\", \"village\", \"patients\", \"aircraft\", \"husband\", \"fix\", \"brain\", \"manager\", \"salary\", \"deflect\", \"society\", \"town\", \"test\", \"officer\", \"border\", \"update\", \"heart\", \"nursing\", \"charge\", \"panic\", \"claim\", \"result\", \"country\", \"infection\", \"home\", \"news\", \"problem\", \"state\", \"record\", \"health\", \"people\", \"order\", \"city\", \"day\", \"life\", \"virus\", \"end\", \"rate\", \"week\", \"briefing\", \"lab\", \"price\", \"study\", \"failure\", \"kit\", \"voter\", \"mail\", \"abortion\", \"trip\", \"insider\", \"curve\", \"speech\", \"incompetence\", \"truth\", \"cluster\", \"travel\", \"manufacturing\", \"seeker\", \"surface\", \"fuel\", \"income\", \"rumor\", \"nose\", \"success\", \"shelf\", \"tracker\", \"chair\", \"screening\", \"transfer\", \"stock\", \"half\", \"symptom\", \"testing\", \"money\", \"crash\", \"step\", \"nation\", \"administration\", \"market\", \"rate\", \"epidemic\", \"government\", \"head\", \"day\", \"hour\", \"person\", \"fear\", \"response\", \"plan\", \"virus\", \"use\", \"hand\", \"state\", \"people\", \"test\", \"country\", \"today\", \"week\", \"care\", \"news\", \"force\", \"line\", \"task\", \"trust\", \"book\", \"warning\", \"whistleblower\", \"sense\", \"trend\", \"tag\", \"summer\", \"love\", \"loss\", \"property\", \"cell\", \"player\", \"finger\", \"pop\", \"bubble\", \"color\", \"statement\", \"relief\", \"destruction\", \"immunity\", \"directive\", \"silver\", \"row\", \"risk\", \"factor\", \"source\", \"power\", \"job\", \"people\", \"training\", \"street\", \"change\", \"place\", \"information\", \"way\", \"damage\", \"game\", \"press\", \"access\", \"share\", \"folk\", \"lot\", \"time\", \"comment\", \"group\", \"conference\", \"worker\", \"virus\", \"world\", \"health\", \"crisis\", \"update\", \"life\", \"news\", \"fear\", \"day\", \"response\", \"thing\", \"hand\", \"hospital\", \"class\", \"golf\", \"phone\", \"message\", \"shock\", \"toilet\", \"recession\", \"prisoner\", \"restaurant\", \"jail\", \"theory\", \"paper\", \"birthday\", \"capitalism\", \"twitter\", \"survivor\", \"college\", \"leadership\", \"medication\", \"trap\", \"chocolate\", \"billionaire\", \"crap\", \"2020\", \"deaths\", \"school\", \"culture\", \"version\", \"career\", \"return\", \"staff\", \"conspiracy\", \"question\", \"night\", \"set\", \"strategy\", \"com\", \"defeat\", \"student\", \"talk\", \"concern\", \"family\", \"prison\", \"economy\", \"conference\", \"contract\", \"week\", \"impact\", \"crisis\", \"month\", \"university\", \"work\", \"state\", \"plan\", \"response\", \"home\", \"time\", \"people\", \"day\", \"deal\"], \"Freq\": [395.0, 251.0, 441.0, 166.0, 117.0, 233.0, 90.0, 112.0, 133.0, 161.0, 53.0, 69.0, 344.0, 84.0, 57.0, 52.0, 139.0, 53.0, 43.0, 47.0, 57.0, 45.0, 130.0, 62.0, 58.0, 36.0, 35.0, 47.0, 42.0, 48.0, 34.23633525627786, 28.239725336453304, 55.25432936305619, 15.95891215235533, 14.20426536207669, 13.316867195265838, 11.576081934064714, 11.574752622011747, 9.817762733776199, 8.943073310798276, 24.223275643566616, 8.062904042375502, 17.630596069311956, 7.188444712721592, 7.177789014533042, 27.795585343111597, 6.314739719237056, 6.313524281332486, 26.84492777718956, 6.312590478817328, 6.312147030353646, 6.309387404043431, 6.30871544540399, 14.104931740853416, 5.438341359732293, 5.437210516462697, 5.435453698054684, 26.91629225635435, 51.07731957764108, 4.561172153211806, 10.634303751975931, 51.699089486862256, 25.384542314104998, 65.93879422632777, 85.80714263753669, 32.93586746010949, 49.409432772031096, 42.28366630982307, 86.18635503410036, 71.78081722574383, 92.1989551592234, 31.290808103991402, 151.25079150741695, 71.33286902383145, 41.70219868693482, 26.268020072956464, 70.4929350342572, 18.17117776492997, 40.94198815967263, 26.35284188040091, 40.055648455966704, 26.48438084008453, 34.510976841835024, 28.239801485795194, 30.79116269049259, 29.59652483193013, 28.40664256640949, 395.2830649151005, 89.7941019852594, 249.36782605398693, 51.51976889067224, 47.16705298974153, 44.55531826658163, 33.243145232161446, 159.53628774096435, 16.592520314402407, 28.30861033321871, 8.874782027918634, 8.87409648638504, 8.872040005683642, 8.005771633025349, 7.1254451162306065, 11.77493429337783, 6.263897948816952, 5.394444622608789, 5.391031778219089, 17.355018920174036, 4.525362897647382, 4.524921214882116, 4.524751938165868, 4.524112436571633, 4.5232057316978995, 4.521980123744994, 4.519741478310496, 4.518719753926285, 4.512881519815831, 10.417882246509858, 14.851887145264167, 189.38790063576704, 13.038948936829602, 27.174332781079546, 96.28974184682158, 16.896316138720064, 10.001505354331197, 16.49704382968875, 25.438936142535905, 30.497837771203873, 22.067083365122823, 67.54540269006955, 37.01841545634757, 57.369748872850835, 55.11666553427046, 21.569423015382476, 51.360034524405854, 20.927598361816834, 66.94448605104769, 101.78421889323637, 26.393605611925196, 30.747859594307478, 40.22619697598502, 29.39977226965007, 49.4012760194304, 24.212443350749965, 21.78893526653877, 22.370200291965944, 35.509533728296866, 34.62492209169013, 18.726096183814533, 17.84354484670491, 16.07480386183798, 14.303345869546916, 11.660115727460731, 11.658821215075966, 8.125886841822743, 8.12555328519812, 8.125034941666103, 8.124473841627136, 7.240959036264363, 7.23966437521052, 23.043070102907727, 6.356078580277851, 61.809260622929195, 5.475840510300679, 5.474886648179218, 5.4738577916000235, 4.591145893264784, 4.590371701512945, 8.982032561428456, 3.710482669910018, 3.7100901734693976, 3.7091829354213504, 3.7081148859854207, 3.705796757237159, 3.7045084344891004, 3.704379800633309, 27.934331970785593, 13.18852603628704, 38.988704507338085, 33.466242717277574, 24.779372667182283, 7.234573250141449, 17.85558164620928, 21.276398708352563, 31.316989610568058, 35.83715332153617, 34.71376476600929, 23.08095033583167, 52.97340715807392, 12.483660471984306, 55.321574214555184, 21.398844927016864, 22.872973592638434, 31.39494317995015, 43.29442369274293, 29.616281019394474, 85.81653109614447, 39.42647451416897, 26.80433833759218, 32.61107337216607, 48.34567177206627, 34.307557449848744, 27.95253194798563, 26.104886354652834, 22.642174327295965, 20.786838859592542, 20.994475157939426, 52.80629432537804, 42.993897984029736, 26.047024320789355, 16.136187003384816, 13.558086082668723, 11.67978536474171, 9.983505240627425, 9.092860764531036, 8.203730435480503, 6.421597217181034, 6.419454233352217, 30.290231082792758, 5.530517628909837, 5.5300536823390045, 5.524434639190655, 7.074056018849096, 4.6378692486150515, 4.6366124675935225, 4.636383700847696, 4.631370322312325, 11.506234716240357, 24.769227032682785, 3.7465364898089657, 3.7453554425093993, 3.7446752893469375, 3.7443784278557475, 3.736504075687178, 46.96956924582889, 8.026612774482734, 18.77769820622912, 17.996557571935547, 33.08273476011848, 260.68073187786763, 7.121222906453346, 19.228493097683653, 26.57149681158297, 27.389376673654763, 26.452856022433966, 43.89000999559544, 8.9065033515288, 9.854721742099684, 20.738267749807292, 11.601356379814181, 17.590015315485388, 10.572626229820703, 19.801790017288155, 46.01927757577388, 10.883546250709257, 17.103246210941716, 18.102124548631462, 23.850319011441254, 56.62161114528461, 34.847416290139364, 37.16774533999214, 26.947925438834297, 28.01312558609938, 22.602831988117988, 25.89016902960092, 21.404602666548175, 26.633327486361175, 23.430188887153726, 18.732448734287484, 18.26792457151179, 116.54235037789422, 21.630774291826032, 17.186801701683482, 16.286715419915385, 15.389005169049364, 13.59911130154826, 11.810805128588738, 10.023848548533286, 9.130298946042442, 16.498266185938025, 9.040913310593561, 7.336025293421872, 18.64776757344233, 6.445189251540602, 6.444543825048094, 6.393658911436628, 5.5488455468942846, 5.548382040922795, 17.87821736986327, 4.654152143333661, 4.653630876875009, 4.653410288188532, 4.651275255466831, 4.650422945579645, 4.64591323534622, 4.6419699802052445, 46.20956499613432, 3.757926995941146, 3.751920255182747, 4.453312443271782, 35.50527796777656, 24.72536996137914, 7.234815610389507, 34.585790710736106, 18.83872640835952, 16.646694100928585, 9.136288463813045, 14.098836480578246, 7.199011336731567, 25.758094744260106, 32.72312518000417, 27.908116676442287, 32.274500342576395, 15.386366958934568, 24.789253580102983, 20.680956953771382, 14.913624670784653, 40.30799673795078, 22.6911641828267, 37.28420196004622, 22.257636404954454, 16.4384954382, 34.932425560815005, 26.778950325463462, 21.21183302266926, 24.19311819873112, 24.305872381637048, 23.183525073303144, 24.257446064376364, 19.03425577755814, 16.968018092038854], \"Total\": [395.0, 251.0, 441.0, 166.0, 117.0, 233.0, 90.0, 112.0, 133.0, 161.0, 53.0, 69.0, 344.0, 84.0, 57.0, 52.0, 139.0, 53.0, 43.0, 47.0, 57.0, 45.0, 130.0, 62.0, 58.0, 36.0, 35.0, 47.0, 42.0, 48.0, 35.09369083723503, 28.95259106547064, 57.03872484915556, 16.672469128415862, 14.918129878027274, 14.041199870107555, 12.286670081003708, 12.286668751731554, 10.53237948056975, 9.655228269870472, 26.34472045256833, 8.778073759349002, 19.323652588555735, 7.900901215200849, 7.9010871741732815, 30.722719082067385, 7.0237177558836885, 7.02374009725174, 29.86842607128932, 7.023742342086572, 7.023751622629673, 7.0237400291660395, 7.023823634141921, 15.802301740789664, 6.146556751720284, 6.146569554756446, 6.14656706201768, 30.77009476919411, 58.89485255392303, 5.269403425288586, 12.305968658835981, 62.207230546066285, 29.90640706710155, 84.33938927253027, 112.46739395705363, 42.28367371239481, 67.89438364811957, 58.18045588702777, 139.3536569767137, 119.55359925120861, 161.7569157643199, 46.43709993805753, 344.16025544129667, 136.8330339302799, 74.09198060825877, 40.53896224311272, 202.1730468004104, 24.68355084783002, 95.98489323049927, 49.58019865681071, 130.88414062622357, 57.87019787530959, 130.36954076243177, 79.06296234509452, 111.79235026050436, 121.96170755856016, 106.07805243997554, 395.9974931105795, 90.52453506618218, 251.54851374709307, 52.231054247253596, 47.87961476119934, 45.268741663989324, 33.95487512372557, 166.36766611423204, 17.421491656317176, 30.515150712423306, 9.586618746169073, 9.586644507213252, 9.58665722793229, 8.716297929537177, 7.846294402405458, 13.072713053667075, 6.975748625652173, 6.105442675202014, 6.105465629534901, 20.059860462361005, 5.2351106048073826, 5.235124658272689, 5.235129271106841, 5.2351342131411185, 5.23514580084256, 5.235205699104475, 5.2352054847425205, 5.235228399534983, 5.235376947407055, 12.227923510056486, 17.43402498364748, 233.1290801644707, 15.733426977265943, 34.046654276584526, 133.10183731964264, 20.98288110829307, 12.219850532049009, 20.965486154768108, 34.98468826617817, 47.348751780361695, 32.35690845510919, 130.36954076243177, 64.23877512197052, 130.88414062622357, 128.24381506360226, 35.142868054554036, 125.94178397417221, 34.20078880322695, 202.1730468004104, 441.2225160059164, 52.48999737775375, 79.06296234509452, 152.65455927491092, 76.75011491817168, 344.16025544129667, 53.492240279027676, 57.09863500129699, 121.96170755856016, 36.22179398823994, 35.338358072655595, 19.43617378164508, 18.552697663834945, 16.7857735111289, 15.018859763225642, 12.36854706818475, 12.3685330272507, 8.834735225689773, 8.834724144316628, 8.834691915063155, 8.834720482769988, 7.951256161515559, 7.951306812964677, 25.60736306479799, 7.067763366236895, 69.75011699560913, 6.184374436658682, 6.184390537270522, 6.184353947468434, 5.30088574038355, 5.30092193171877, 10.610457373313457, 4.417451548318536, 4.417445740300083, 4.417461383354644, 4.417455609762837, 4.417432895266152, 4.417401955041557, 4.417517627931765, 33.618759845063174, 15.928780285067702, 47.81283441885947, 41.44591422135887, 30.84027786300224, 8.84334820665037, 23.91076706042686, 29.04962518710744, 46.717738629302275, 55.82733276315358, 57.09863500129699, 36.35000323444031, 106.07805243997554, 17.713064151373494, 152.65455927491092, 38.775049076123295, 42.99603940931625, 69.9186754214514, 116.09411953295347, 64.89890020780038, 344.16025544129667, 103.36969765672896, 65.5807483825308, 125.94178397417221, 441.2225160059164, 233.1290801644707, 130.36954076243177, 112.46739395705363, 121.96170755856016, 61.91936178025799, 128.24381506360226, 53.517816735374964, 43.70463759611539, 26.75467531385557, 16.940556646240445, 14.265194989036946, 12.478722419739743, 10.696724772101648, 9.804620785749313, 8.912500737799395, 7.128357978589965, 7.1283535777682845, 33.901449960409096, 6.236263289118241, 6.236254838807631, 6.236198734224684, 8.021253294832235, 5.34414689890057, 5.344126489641762, 5.34413864638503, 5.344075071532398, 13.361779091771949, 29.392656570031704, 4.452052262077191, 4.452038029734007, 4.452046150390077, 4.452028961637952, 4.451866317919278, 57.09415518808747, 9.786720123332637, 23.1989260637305, 23.133983817366868, 46.127831293675, 441.2225160059164, 8.902069457496486, 26.69269491308288, 38.13922906903855, 40.77280974083767, 40.95566625178646, 75.38369538295143, 11.59565776008254, 13.325959118581249, 36.53462268005127, 16.828321985983838, 31.963771421133018, 15.110262947057523, 41.4598508651102, 161.7569157643199, 16.00616486040265, 34.60114215267245, 39.31429235691482, 64.54785983208984, 344.16025544129667, 139.3536569767137, 202.1730468004104, 111.79235026050436, 133.10183731964264, 76.75011491817168, 128.24381506360226, 69.9186754214514, 152.65455927491092, 116.09411953295347, 74.09198060825877, 65.5807483825308, 117.2556444109084, 22.36687365975368, 17.891864234191644, 16.99662696124802, 16.101414324913875, 14.311041519890763, 12.520798146999745, 10.730478350858768, 9.835331691576291, 17.889450983591207, 9.834119301502191, 8.044927477709457, 20.57315067935837, 7.149828476216165, 7.149826180809563, 7.14961539772815, 6.254646600376191, 6.254628111026564, 20.551255209984483, 5.359468121010488, 5.359476011587375, 5.359460496453667, 5.359464195971329, 5.359417662200864, 5.359238832760175, 5.359143085926851, 53.6098776176073, 4.464282988536974, 4.464174566569663, 5.3554295706731905, 42.820859721558236, 31.156396234407083, 8.936400108954077, 48.27299152356797, 25.034297992902133, 22.350513278301435, 11.602313496685985, 19.663609504553826, 8.92661513850237, 41.91109794097359, 57.050418930831135, 47.23026575341064, 58.429379245458705, 23.118413276120314, 49.714392532542206, 39.31429235691482, 25.70820572635359, 121.96170755856016, 49.58019865681071, 111.79235026050436, 52.25111844909979, 30.250390984819745, 136.8330339302799, 125.94178397417221, 64.89890020780038, 116.09411953295347, 130.88414062622357, 161.7569157643199, 441.2225160059164, 152.65455927491092, 41.81846023198488], \"Category\": [\"Default\", \"Default\", \"Default\", \"Default\", \"Default\", \"Default\", \"Default\", \"Default\", \"Default\", \"Default\", \"Default\", \"Default\", \"Default\", \"Default\", \"Default\", \"Default\", \"Default\", \"Default\", \"Default\", \"Default\", \"Default\", \"Default\", \"Default\", \"Default\", \"Default\", \"Default\", \"Default\", \"Default\", \"Default\", \"Default\", \"Topic1\", \"Topic1\", \"Topic1\", \"Topic1\", \"Topic1\", \"Topic1\", \"Topic1\", \"Topic1\", \"Topic1\", \"Topic1\", \"Topic1\", \"Topic1\", \"Topic1\", \"Topic1\", \"Topic1\", \"Topic1\", \"Topic1\", \"Topic1\", \"Topic1\", \"Topic1\", \"Topic1\", \"Topic1\", \"Topic1\", \"Topic1\", \"Topic1\", \"Topic1\", \"Topic1\", \"Topic1\", \"Topic1\", \"Topic1\", \"Topic1\", \"Topic1\", \"Topic1\", \"Topic1\", \"Topic1\", \"Topic1\", \"Topic1\", \"Topic1\", \"Topic1\", \"Topic1\", \"Topic1\", \"Topic1\", \"Topic1\", \"Topic1\", \"Topic1\", \"Topic1\", \"Topic1\", \"Topic1\", \"Topic1\", \"Topic1\", \"Topic1\", \"Topic1\", \"Topic1\", \"Topic1\", \"Topic1\", \"Topic1\", \"Topic1\", \"Topic2\", \"Topic2\", \"Topic2\", \"Topic2\", \"Topic2\", \"Topic2\", \"Topic2\", \"Topic2\", \"Topic2\", \"Topic2\", \"Topic2\", \"Topic2\", \"Topic2\", \"Topic2\", \"Topic2\", \"Topic2\", \"Topic2\", \"Topic2\", \"Topic2\", \"Topic2\", \"Topic2\", \"Topic2\", \"Topic2\", \"Topic2\", \"Topic2\", \"Topic2\", \"Topic2\", \"Topic2\", \"Topic2\", \"Topic2\", \"Topic2\", \"Topic2\", \"Topic2\", \"Topic2\", \"Topic2\", \"Topic2\", \"Topic2\", \"Topic2\", \"Topic2\", \"Topic2\", \"Topic2\", \"Topic2\", \"Topic2\", \"Topic2\", \"Topic2\", \"Topic2\", \"Topic2\", \"Topic2\", \"Topic2\", \"Topic2\", \"Topic2\", \"Topic2\", \"Topic2\", \"Topic2\", \"Topic2\", \"Topic2\", \"Topic2\", \"Topic2\", \"Topic3\", \"Topic3\", \"Topic3\", \"Topic3\", \"Topic3\", \"Topic3\", \"Topic3\", \"Topic3\", \"Topic3\", \"Topic3\", \"Topic3\", \"Topic3\", \"Topic3\", \"Topic3\", \"Topic3\", \"Topic3\", \"Topic3\", \"Topic3\", \"Topic3\", \"Topic3\", \"Topic3\", \"Topic3\", \"Topic3\", \"Topic3\", \"Topic3\", \"Topic3\", \"Topic3\", \"Topic3\", \"Topic3\", \"Topic3\", \"Topic3\", \"Topic3\", \"Topic3\", \"Topic3\", \"Topic3\", \"Topic3\", \"Topic3\", \"Topic3\", \"Topic3\", \"Topic3\", \"Topic3\", \"Topic3\", \"Topic3\", \"Topic3\", \"Topic3\", \"Topic3\", \"Topic3\", \"Topic3\", \"Topic3\", \"Topic3\", \"Topic3\", \"Topic3\", \"Topic3\", \"Topic3\", \"Topic3\", \"Topic3\", \"Topic3\", \"Topic3\", \"Topic3\", \"Topic3\", \"Topic3\", \"Topic4\", \"Topic4\", \"Topic4\", \"Topic4\", \"Topic4\", \"Topic4\", \"Topic4\", \"Topic4\", \"Topic4\", \"Topic4\", \"Topic4\", \"Topic4\", \"Topic4\", \"Topic4\", \"Topic4\", \"Topic4\", \"Topic4\", \"Topic4\", \"Topic4\", \"Topic4\", \"Topic4\", \"Topic4\", \"Topic4\", \"Topic4\", \"Topic4\", \"Topic4\", \"Topic4\", \"Topic4\", \"Topic4\", \"Topic4\", \"Topic4\", \"Topic4\", \"Topic4\", \"Topic4\", \"Topic4\", \"Topic4\", \"Topic4\", \"Topic4\", \"Topic4\", \"Topic4\", \"Topic4\", \"Topic4\", \"Topic4\", \"Topic4\", \"Topic4\", \"Topic4\", \"Topic4\", \"Topic4\", \"Topic4\", \"Topic4\", \"Topic4\", \"Topic4\", \"Topic4\", \"Topic4\", \"Topic4\", \"Topic4\", \"Topic4\", \"Topic4\", \"Topic4\", \"Topic4\", \"Topic4\", \"Topic4\", \"Topic4\", \"Topic5\", \"Topic5\", \"Topic5\", \"Topic5\", \"Topic5\", \"Topic5\", \"Topic5\", \"Topic5\", \"Topic5\", \"Topic5\", \"Topic5\", \"Topic5\", \"Topic5\", \"Topic5\", \"Topic5\", \"Topic5\", \"Topic5\", \"Topic5\", \"Topic5\", \"Topic5\", \"Topic5\", \"Topic5\", \"Topic5\", \"Topic5\", \"Topic5\", \"Topic5\", \"Topic5\", \"Topic5\", \"Topic5\", \"Topic5\", \"Topic5\", \"Topic5\", \"Topic5\", \"Topic5\", \"Topic5\", \"Topic5\", \"Topic5\", \"Topic5\", \"Topic5\", \"Topic5\", \"Topic5\", \"Topic5\", \"Topic5\", \"Topic5\", \"Topic5\", \"Topic5\", \"Topic5\", \"Topic5\", \"Topic5\", \"Topic5\", \"Topic5\", \"Topic5\", \"Topic5\", \"Topic5\", \"Topic5\", \"Topic5\", \"Topic5\", \"Topic5\", \"Topic5\", \"Topic5\", \"Topic5\"], \"logprob\": [30.0, 29.0, 28.0, 27.0, 26.0, 25.0, 24.0, 23.0, 22.0, 21.0, 20.0, 19.0, 18.0, 17.0, 16.0, 15.0, 14.0, 13.0, 12.0, 11.0, 10.0, 9.0, 8.0, 7.0, 6.0, 5.0, 4.0, 3.0, 2.0, 1.0, -4.8676, -5.0601, -4.3889, -5.6309, -5.7473, -5.8118, -5.9519, -5.952, -6.1167, -6.21, -5.2136, -6.3136, -5.5312, -6.4284, -6.4299, -5.076, -6.558, -6.5582, -5.1108, -6.5583, -6.5584, -6.5588, -6.5589, -5.7543, -6.7074, -6.7076, -6.7079, -5.1081, -4.4675, -6.8833, -6.0368, -4.4554, -5.1667, -4.2121, -3.9488, -4.9063, -4.5007, -4.6565, -3.9444, -4.1273, -3.8769, -4.9575, -3.3819, -4.1335, -4.6703, -5.1325, -4.1454, -5.501, -4.6887, -5.1293, -4.7106, -5.1243, -4.8596, -5.0601, -4.9736, -5.0132, -5.0542, -2.409, -3.8911, -2.8697, -4.4467, -4.5349, -4.5919, -4.8848, -3.3163, -5.5797, -5.0455, -6.2054, -6.2055, -6.2057, -6.3085, -6.4249, -5.9226, -6.5538, -6.7032, -6.7039, -5.5347, -6.8789, -6.879, -6.8791, -6.8792, -6.8794, -6.8797, -6.8802, -6.8804, -6.8817, -6.0451, -5.6905, -3.1448, -5.8207, -5.0863, -3.8213, -5.5615, -6.0859, -5.5854, -5.1523, -4.971, -5.2945, -4.1758, -4.7772, -4.3391, -4.3792, -5.3173, -4.4498, -5.3476, -4.1848, -3.7658, -5.1155, -4.9628, -4.6941, -5.0076, -4.4886, -5.2018, -5.3072, -5.2809, -4.6146, -4.6398, -5.2545, -5.3028, -5.4071, -5.5239, -5.7282, -5.7283, -6.0893, -6.0894, -6.0894, -6.0895, -6.2046, -6.2048, -5.047, -6.335, -4.0603, -6.484, -6.4842, -6.4844, -6.6603, -6.6604, -5.9892, -6.8732, -6.8733, -6.8736, -6.8739, -6.8745, -6.8748, -6.8749, -4.8545, -5.605, -4.5211, -4.6739, -4.9744, -6.2055, -5.3021, -5.1268, -4.7402, -4.6054, -4.6373, -5.0454, -4.2146, -5.66, -4.1712, -5.1211, -5.0544, -4.7377, -4.4164, -4.7961, -3.7322, -4.51, -4.8958, -4.6997, -4.306, -4.649, -4.8539, -4.9223, -5.0646, -5.1501, -5.1401, -4.1993, -4.4049, -4.9061, -5.3849, -5.559, -5.7081, -5.865, -5.9585, -6.0614, -6.3063, -6.3066, -4.7552, -6.4557, -6.4558, -6.4568, -6.2095, -6.6317, -6.632, -6.632, -6.6331, -5.7231, -4.9564, -6.8451, -6.8455, -6.8456, -6.8457, -6.8478, -4.3165, -6.0832, -5.2333, -5.2758, -4.667, -2.6027, -6.2029, -5.2096, -4.8861, -4.8558, -4.8906, -4.3843, -5.9792, -5.878, -5.134, -5.7149, -5.2986, -5.8077, -5.1802, -4.3369, -5.7787, -5.3267, -5.2699, -4.9942, -4.1296, -4.615, -4.5505, -4.8721, -4.8333, -5.0479, -4.9121, -5.1024, -4.8838, -5.012, -5.2357, -5.2608, -3.3445, -5.0286, -5.2586, -5.3124, -5.3691, -5.4928, -5.6338, -5.7978, -5.8912, -5.2995, -5.901, -6.11, -5.177, -6.2394, -6.2395, -6.2475, -6.3892, -6.3893, -5.2192, -6.565, -6.5651, -6.5652, -6.5656, -6.5658, -6.5668, -6.5676, -4.2696, -6.7789, -6.7805, -6.6091, -4.5331, -4.8949, -6.1239, -4.5593, -5.1669, -5.2906, -5.8905, -5.4567, -6.1288, -4.854, -4.6147, -4.7738, -4.6285, -5.3693, -4.8924, -5.0736, -5.4005, -4.4062, -4.9808, -4.4842, -5.0001, -5.3031, -4.5494, -4.8152, -5.0482, -4.9167, -4.912, -4.9593, -4.914, -5.1565, -5.2714], \"loglift\": [30.0, 29.0, 28.0, 27.0, 26.0, 25.0, 24.0, 23.0, 22.0, 21.0, 20.0, 19.0, 18.0, 17.0, 16.0, 15.0, 14.0, 13.0, 12.0, 11.0, 10.0, 9.0, 8.0, 7.0, 6.0, 5.0, 4.0, 3.0, 2.0, 1.0, 1.4399, 1.4397, 1.4329, 1.4209, 1.4156, 1.4117, 1.4051, 1.405, 1.3944, 1.388, 1.3807, 1.3797, 1.373, 1.3702, 1.3686, 1.3645, 1.3583, 1.3581, 1.3579, 1.3579, 1.3578, 1.3574, 1.3573, 1.351, 1.3422, 1.342, 1.3417, 1.3308, 1.3222, 1.3203, 1.3187, 1.2796, 1.3007, 1.2185, 1.1941, 1.2148, 1.1468, 1.1455, 0.9842, 0.9545, 0.9025, 1.0699, 0.6425, 0.8133, 0.8899, 1.0307, 0.411, 1.1584, 0.6126, 0.8326, 0.2806, 0.683, 0.1356, 0.4351, 0.1752, 0.0486, 0.1471, 1.4751, 1.4688, 1.4682, 1.4632, 1.4619, 1.461, 1.4557, 1.435, 1.4282, 1.4018, 1.3998, 1.3997, 1.3994, 1.3919, 1.3805, 1.3724, 1.3693, 1.3531, 1.3525, 1.3321, 1.3312, 1.3311, 1.3311, 1.3309, 1.3307, 1.3305, 1.33, 1.3297, 1.3284, 1.3167, 1.3166, 1.2691, 1.2891, 1.2514, 1.1532, 1.2603, 1.2766, 1.2372, 1.1583, 1.037, 1.0942, 0.8193, 0.9257, 0.6521, 0.6324, 0.9888, 0.5799, 0.9857, 0.3716, 0.0102, 0.7894, 0.5325, 0.1432, 0.5173, -0.4642, 0.6842, 0.5135, -0.2191, 1.6613, 1.6607, 1.6439, 1.6422, 1.6379, 1.6323, 1.6221, 1.622, 1.5975, 1.5975, 1.5974, 1.5973, 1.5876, 1.5874, 1.5756, 1.575, 1.5603, 1.5595, 1.5593, 1.5591, 1.5374, 1.5372, 1.5145, 1.5067, 1.5066, 1.5064, 1.5061, 1.5055, 1.5051, 1.5051, 1.4959, 1.4924, 1.4771, 1.4673, 1.4623, 1.4803, 1.3891, 1.3697, 1.2812, 1.2379, 1.1835, 1.2269, 0.9867, 1.3312, 0.6661, 1.0867, 1.05, 0.8804, 0.6948, 0.8966, 0.2922, 0.7173, 0.7864, 0.33, -0.53, -0.2351, 0.1413, 0.2206, -0.0028, 0.5896, -0.1285, 1.6862, 1.6832, 1.6727, 1.6509, 1.6487, 1.6334, 1.6305, 1.6242, 1.6167, 1.5951, 1.5948, 1.5869, 1.5795, 1.5794, 1.5784, 1.5739, 1.5578, 1.5575, 1.5575, 1.5564, 1.55, 1.5284, 1.527, 1.5267, 1.5265, 1.5264, 1.5244, 1.5043, 1.5013, 1.4881, 1.4484, 1.3671, 1.1733, 1.4763, 1.3716, 1.3381, 1.3017, 1.2624, 1.1586, 1.4357, 1.3978, 1.1333, 1.3276, 1.1023, 1.3424, 0.9606, 0.4425, 1.3138, 0.9949, 0.924, 0.7039, -0.1052, 0.3135, 0.0059, 0.2768, 0.1411, 0.4771, 0.0995, 0.5158, -0.0465, 0.0992, 0.3245, 0.4214, 1.7567, 1.7293, 1.7226, 1.7201, 1.7175, 1.7117, 1.7044, 1.6946, 1.6884, 1.6818, 1.6787, 1.6705, 1.6645, 1.659, 1.6589, 1.651, 1.643, 1.6429, 1.6234, 1.6217, 1.6215, 1.6215, 1.621, 1.6209, 1.6199, 1.6191, 1.6142, 1.5905, 1.5889, 1.5783, 1.5754, 1.5316, 1.5515, 1.4293, 1.4784, 1.4681, 1.5238, 1.4301, 1.5477, 1.276, 1.2069, 1.2366, 1.1692, 1.3556, 1.0669, 1.1204, 1.2182, 0.6556, 0.9811, 0.6647, 0.9094, 1.1529, 0.3974, 0.2146, 0.6445, 0.1944, 0.0792, -0.1799, -1.1381, -0.3192, 0.8608]}, \"token.table\": {\"Topic\": [5, 3, 2, 4, 1, 3, 2, 2, 1, 5, 5, 1, 3, 4, 1, 5, 2, 3, 2, 3, 4, 1, 4, 5, 5, 1, 1, 2, 3, 4, 5, 5, 2, 2, 2, 1, 4, 1, 3, 1, 2, 4, 2, 3, 4, 2, 5, 1, 2, 4, 5, 2, 3, 4, 5, 1, 3, 5, 4, 4, 5, 1, 4, 3, 4, 1, 3, 4, 5, 4, 5, 4, 5, 1, 2, 5, 1, 2, 3, 1, 3, 4, 5, 3, 4, 1, 2, 3, 4, 5, 2, 5, 3, 4, 5, 1, 1, 2, 3, 4, 5, 3, 4, 5, 1, 2, 4, 5, 3, 5, 2, 4, 4, 1, 2, 3, 4, 5, 2, 1, 4, 5, 1, 2, 3, 4, 3, 4, 5, 1, 4, 1, 4, 3, 1, 2, 3, 5, 2, 3, 1, 2, 3, 4, 5, 4, 2, 1, 2, 1, 1, 3, 4, 1, 1, 5, 4, 1, 4, 3, 1, 4, 2, 5, 1, 3, 4, 5, 1, 4, 5, 3, 5, 1, 3, 4, 5, 3, 4, 1, 2, 3, 4, 5, 2, 4, 1, 2, 3, 4, 5, 1, 2, 4, 5, 5, 2, 3, 5, 2, 4, 1, 5, 3, 3, 2, 4, 5, 3, 4, 5, 3, 5, 1, 2, 4, 3, 3, 3, 5, 1, 2, 3, 4, 5, 4, 1, 2, 4, 4, 1, 2, 4, 5, 4, 5, 3, 1, 2, 3, 4, 2, 3, 1, 3, 5, 5, 5, 1, 2, 2, 3, 1, 2, 4, 5, 2, 3, 1, 1, 2, 3, 4, 5, 4, 5, 3, 2, 2, 3, 2, 5, 1, 2, 3, 4, 2, 3, 5, 4, 5, 2, 2, 1, 2, 3, 4, 5, 2, 3, 2, 5, 1, 2, 4, 3, 4, 5, 2, 4, 4, 2, 1, 4, 5, 3, 4, 5, 3, 1, 5, 5, 2, 4, 5, 1, 4, 1, 2, 4, 5, 2, 3, 5, 2, 3, 5, 3, 4, 2, 3, 4, 2, 5, 1, 1, 3, 4, 5, 4, 5, 2, 3, 1, 5, 3, 4, 5, 4, 3, 4, 2, 3, 5, 1, 3, 3, 4, 4, 5, 1, 4, 5, 3, 2, 5, 4, 1, 5, 1, 2, 5, 4, 5, 3, 2, 5, 1, 2, 3, 4, 5, 3, 4, 3, 4, 5, 2, 3, 5, 3, 5, 2, 3, 4, 5, 3, 4, 5, 3, 1, 3, 4, 1, 1, 4, 5, 3, 5, 3, 5, 4, 3, 4, 5, 4, 1, 1, 2, 3, 5, 1, 2, 3, 5, 1, 3, 4, 1, 4, 5, 1, 3, 5, 2, 1, 1, 2, 3, 1, 5, 3, 4, 3, 1, 5, 1, 2, 3, 5, 4, 3, 1, 4, 1, 3, 5, 3, 5, 2, 3, 4, 1, 2, 3, 4, 5, 1, 4, 5, 1, 3, 1, 2, 1, 2, 3, 4, 5, 3, 1, 5, 4, 1, 5, 1, 3, 4, 1, 2, 3, 4, 5, 4, 1, 1, 2, 3, 4, 5, 1, 3, 4, 1, 3, 4, 5, 1, 3], \"Freq\": [0.9329683106182532, 0.9055166675213404, 0.29711815617531306, 0.7130835748207514, 0.3210771848145858, 0.6635595152834772, 0.9550862530932062, 0.9388048186157143, 0.9113616744766673, 0.9329290796939113, 0.8391809705587963, 0.9113776656683811, 0.06509840469059865, 0.9814096485017728, 0.8938751840637702, 0.08126138036943366, 0.7930294642363482, 0.1762287698302996, 0.9550723099295393, 0.993876780694188, 0.9356044689039238, 0.7217091807468985, 0.044186276372259095, 0.22093138186129546, 0.8391812399725541, 0.9766683095699839, 0.30685070798093805, 0.016150037262154634, 0.33915078250524733, 0.2261005216701649, 0.11305026083508245, 0.7469055371214957, 0.8921408809047482, 0.9974810620573779, 0.9178208529208441, 0.8542355720372528, 0.9621245658948602, 0.9258468022861653, 0.9055032854684709, 0.2097577794642526, 0.1048788897321263, 0.7079325056918525, 0.763159026310543, 0.1430923174332268, 0.04769743914440894, 0.9758062245970573, 0.9329297236743287, 0.35414812662578243, 0.3920925687642591, 0.15177776855390673, 0.10118517903593784, 0.6335964280359923, 0.12671928560719845, 0.23231869027986382, 0.9835974546405285, 0.9321374646402574, 0.8489248562936245, 0.9592896481602688, 0.9356155991585396, 0.2542768151921481, 0.7119750825380147, 0.9109984690560744, 0.0759165390880062, 0.3123796389458293, 0.6872352056808245, 0.04234572827605938, 0.23290150551832658, 0.12703718482817813, 0.5928401958648313, 0.4578487598501581, 0.5341568864918511, 0.11190188306340737, 0.7833131814438516, 0.23338851664195975, 0.15559234442797318, 0.5834712916048994, 0.26846761747653447, 0.5215942282401241, 0.21477409398122757, 0.64135830226925, 0.12333813505177883, 0.22200864309320192, 0.932937179959722, 0.7915553969407043, 0.11307934242010062, 0.277299832481938, 0.026835467659542388, 0.11628702652468369, 0.2415192089358815, 0.3309707678010228, 0.994063416518531, 0.8960005470690092, 0.9055181786002272, 0.7761526069682775, 0.17247835710406165, 0.9494530669397272, 0.07205811639199348, 0.2620295141527036, 0.36029058195996744, 0.17686992205307492, 0.12446401922253421, 0.38260614836704077, 0.19130307418352038, 0.4065190326399808, 0.003975376300594645, 0.9898686988480666, 0.003975376300594645, 0.9329849790967584, 0.11202454508056357, 0.784171815563945, 0.9550410696743372, 0.8984620495298774, 0.8984632829220628, 0.4271505506761581, 0.19794781616700008, 0.11460136725457899, 0.15627459171078953, 0.09376475502647373, 0.8189414373355921, 0.38218308687092817, 0.12068939585397731, 0.5028724827249055, 0.22433160281575934, 0.4486632056315187, 0.20563730258111274, 0.11216580140787967, 0.6327372201774204, 0.3026134531283315, 0.05502062784151481, 0.8659500412757694, 0.11885588801824286, 0.10217927838928263, 0.8174342271142611, 0.9531881262065203, 0.17114677802737785, 0.2738348448438046, 0.017114677802737788, 0.5476696896876092, 0.8474635220866903, 0.09970159083372826, 0.1001163130995523, 0.08581398265675912, 0.4433722437265888, 0.3003489392986569, 0.057209321771172744, 0.9356030241288146, 0.9550832374516264, 0.8359156892781534, 0.16075301716887566, 0.9488740178829955, 0.06618018518299403, 0.1985405555489821, 0.7279820370129344, 0.8859540270459596, 0.7804430670915559, 0.21284810920678798, 0.9903244047130068, 0.9039646058201051, 0.06696034117185963, 0.9432385916015275, 0.225124508735503, 0.7504150291183432, 0.8189383584132776, 0.9501525261695606, 0.26395658061165717, 0.4996320990149225, 0.1414053110419592, 0.09427020736130613, 0.3468093610046675, 0.491313261423279, 0.14450390041861147, 0.816132796569913, 0.1255588917799866, 0.18298052852346716, 0.4117061891778011, 0.27447079278520076, 0.13723539639260038, 0.677466072354822, 0.2822775301478425, 0.3462380426462362, 0.33139926938996894, 0.0840863817855145, 0.1830115368272963, 0.04946257752089089, 0.8101842598384206, 0.1906315905502166, 0.6022403378146068, 0.12546673704470976, 0.17565343186259366, 0.04182224568156992, 0.05855114395419789, 0.30561380323557485, 0.4354996696106942, 0.06876310572800434, 0.1833682819413449, 0.997819768829102, 0.28368758420923634, 0.5415853880358149, 0.15473868229594712, 0.955085351479454, 0.8984649217470825, 0.5244029008429244, 0.463894873822587, 0.9432321517662495, 0.8803584322248058, 0.5759761130212694, 0.2023699856561217, 0.2179369076296695, 0.21974981299705815, 0.6348327931026124, 0.12208322944281008, 0.9055211066681335, 0.9151810878097871, 0.15175220260051187, 0.13007331651472445, 0.7154032408309845, 0.9321613105596495, 0.9904251897623559, 0.09731765673506568, 0.8758589106155911, 0.09120507516455394, 0.37784959711029487, 0.06514648226039567, 0.2996738183978201, 0.16938085387702873, 0.9838772808820174, 0.6675696811676637, 0.2584140701294182, 0.04306901168823637, 0.9621146064293821, 0.14471832085264913, 0.3617958021316228, 0.4823944028421637, 0.024119720142108187, 0.8849179027750936, 0.08849179027750936, 0.9702039824416737, 0.4492813391794698, 0.36288108164495636, 0.06912020602761074, 0.1036803090414161, 0.9550723490361547, 0.8084892095733809, 0.07164949142331277, 0.6448454228098149, 0.2686855928374229, 0.9329283964576109, 0.9315951814736146, 0.07649521533095124, 0.9179425839714149, 0.19455077631443596, 0.8106282346434832, 0.1531067704855575, 0.2487985020390309, 0.17224511679625218, 0.4210436188352831, 0.24096696445869054, 0.7229008933760716, 0.8542457318925695, 0.19494117503913386, 0.4288705850860945, 0.16375058703287246, 0.20273882204069923, 0.007797647001565355, 0.23967119036855575, 0.7589587695004265, 0.9054994619063936, 0.9942056033118679, 0.8183406150323194, 0.16366812300646386, 0.8262662685494002, 0.1271178874691385, 0.36197372736110206, 0.49533246902045547, 0.09525624404239529, 0.038102497616958116, 0.7145983354143254, 0.2000875339160111, 0.05716786683314603, 0.048607042041612446, 0.9235337987906365, 0.971878114107439, 0.9550870946499549, 0.013598580721387176, 0.231175872263582, 0.10878864577109741, 0.5915382613803422, 0.054394322885548706, 0.46515912336954596, 0.5349329918749779, 0.938806064335457, 0.9413632502778163, 0.19620919065548906, 0.12263074415968066, 0.6622060184622756, 0.4622574481839095, 0.21572014248582444, 0.3235802137287367, 0.9388085870835854, 0.8726815801353404, 0.9356065972037219, 0.8601227369254653, 0.12967935067663858, 0.7780761040598314, 0.04322645022554619, 0.19159907743681606, 0.5747972323104482, 0.24634167099019208, 0.9775586601280036, 0.3027889464728319, 0.6488334567274969, 0.9150682744851675, 0.6260160657874678, 0.34146330861134605, 0.028455275717612173, 0.9384554307051867, 0.9621159101232619, 0.8542443301481121, 0.020715517485834233, 0.26930172731584506, 0.7250431120041982, 0.38529817743454414, 0.6129743731913202, 0.9319249033478263, 0.6140209256816493, 0.2339127335930093, 0.1461954584956308, 0.13608841346033138, 0.8505525841270711, 0.9617253384449125, 0.012021566730561406, 0.02404313346112281, 0.9175769854087812, 0.06554121324348437, 0.9596658945213019, 0.2153425177827695, 0.3703891305863635, 0.19811511636014795, 0.2067288170714587, 0.055898864695022386, 0.8943818351203582, 0.6799166252400783, 0.30905301147276293, 0.16347172956165187, 0.8407117520313525, 0.035029855392576054, 0.8232016017255372, 0.14011942157030421, 0.8984995762113377, 0.8482197970688855, 0.09424664411876506, 0.9550681686484056, 0.13057295243108263, 0.8580508302614002, 0.9670982447368341, 0.9055096277654384, 0.8084871047304117, 0.9179345327747095, 0.2237085089609174, 0.7606089304671192, 0.2815687761441568, 0.5631375522883136, 0.1564270978578649, 0.9054974459023744, 0.9816286165712393, 0.9782656266171509, 0.8984667517814967, 0.8774753604929229, 0.09749726227699143, 0.8134618758411044, 0.8178003396713924, 0.08178003396713925, 0.8190034292020459, 0.17242177456885177, 0.8803640403236306, 0.19257682932450298, 0.8024034555187624, 0.05558123586240084, 0.404949004140349, 0.2620258262084611, 0.06352141241417239, 0.2143847668978318, 0.07484033324692443, 0.8980839989630933, 0.7527989359149677, 0.16728865242554838, 0.08364432621277419, 0.029745297108181322, 0.832868319029077, 0.14872648554090662, 0.17237941386183608, 0.7757073623782623, 0.11239030040873134, 0.03746343346957711, 0.7118052359219652, 0.14985373387830844, 0.2386002870667745, 0.1431601722400647, 0.6203607463736137, 0.9702093100502399, 0.8134622057403688, 0.9055006524490495, 0.8417090895592829, 0.9688351150550798, 0.7218919026958768, 0.12031531711597945, 0.13750321956111938, 0.808491888153774, 0.959286812405856, 0.8156805693288223, 0.1673190911443738, 0.8417085699148401, 0.2629253260731748, 0.15775519564390486, 0.5784357173609845, 0.9717927687403202, 0.9766682039060425, 0.00428946916143841, 0.8107096715118595, 0.14584195148890594, 0.03860522245294569, 0.0965113226514045, 0.07238349198855337, 0.7962184118740872, 0.8701134993939103, 0.5668629675600603, 0.1754575851971615, 0.25643800913431297, 0.568754662298607, 0.2843773311493035, 0.14218866557465176, 0.7646660687526878, 0.23117811380895215, 0.9584053555623737, 0.9955763051199422, 0.8542484491171173, 0.11471820201450507, 0.860386515108788, 0.9054986293828883, 0.9315009115129892, 0.05175005063961051, 0.11233343042025964, 0.7863340129418175, 0.905485916956659, 0.8859748792368685, 0.9329270229384038, 0.0573475740585755, 0.02867378702928775, 0.8888873979079202, 0.014336893514643874, 0.897615633967992, 0.9055178033087082, 0.8542454588699442, 0.9444789999595923, 0.0781025361705191, 0.8981791659609697, 0.8392059804932375, 0.4297465115913266, 0.5289187834970174, 0.721252252660172, 0.060104354388347665, 0.21036524035921683, 0.16445825406642628, 0.1451102241762585, 0.37728658285827205, 0.16445825406642628, 0.13543620923117458, 0.9642571804585891, 0.01753194873561071, 0.8960223083466152, 0.885946884804922, 0.06328192034320872, 0.8542457401733314, 0.955089658546759, 0.43874909322804134, 0.1423755335640664, 0.24988358952060633, 0.16562051863575072, 0.002905623133960539, 0.970202881053608, 0.8359412731829352, 0.13375060370926964, 0.9616369045133607, 0.7292305758991889, 0.243076858633063, 0.2387784242807342, 0.17245108420275249, 0.5836805926862392, 0.24597884533221576, 0.18038448657695821, 0.18858378142136542, 0.05739506391085034, 0.32797179377628766, 0.934865597933417, 0.8134635702502238, 0.5188805507022259, 0.07308176770453886, 0.08038994447499274, 0.07308176770453886, 0.255786186965886, 0.37181713014857304, 0.24787808676571538, 0.37181713014857304, 0.617134862950678, 0.10046381489894758, 0.25115953724736895, 0.028703947113985023, 0.782552500904776, 0.21342340933766618], \"Term\": [\"2020\", \"abortion\", \"access\", \"access\", \"administration\", \"administration\", \"aircraft\", \"antibody\", \"bat\", \"billionaire\", \"birthday\", \"blame\", \"blame\", \"book\", \"boost\", \"boost\", \"border\", \"border\", \"brain\", \"briefing\", \"bubble\", \"business\", \"business\", \"business\", \"capitalism\", \"car\", \"care\", \"care\", \"care\", \"care\", \"care\", \"career\", \"carrier\", \"case\", \"cases\", \"celebrity\", \"cell\", \"chain\", \"chair\", \"change\", \"change\", \"change\", \"charge\", \"charge\", \"charge\", \"child\", \"chocolate\", \"city\", \"city\", \"city\", \"city\", \"claim\", \"claim\", \"claim\", \"class\", \"climate\", \"cluster\", \"college\", \"color\", \"com\", \"com\", \"combat\", \"combat\", \"comment\", \"comment\", \"concern\", \"concern\", \"concern\", \"concern\", \"conference\", \"conference\", \"conspiracy\", \"conspiracy\", \"contract\", \"contract\", \"contract\", \"country\", \"country\", \"country\", \"cover\", \"cover\", \"cover\", \"crap\", \"crash\", \"crash\", \"crisis\", \"crisis\", \"crisis\", \"crisis\", \"crisis\", \"cruise\", \"culture\", \"curve\", \"damage\", \"damage\", \"daughter\", \"day\", \"day\", \"day\", \"day\", \"day\", \"deal\", \"deal\", \"deal\", \"death\", \"death\", \"death\", \"deaths\", \"defeat\", \"defeat\", \"deflect\", \"destruction\", \"directive\", \"doctor\", \"doctor\", \"doctor\", \"doctor\", \"doctor\", \"dorries\", \"economy\", \"economy\", \"economy\", \"end\", \"end\", \"end\", \"end\", \"epidemic\", \"epidemic\", \"epidemic\", \"expert\", \"expert\", \"factor\", \"factor\", \"failure\", \"family\", \"family\", \"family\", \"family\", \"fatality\", \"fatality\", \"fear\", \"fear\", \"fear\", \"fear\", \"fear\", \"finger\", \"fix\", \"flu\", \"flu\", \"flyer\", \"folk\", \"folk\", \"folk\", \"follower\", \"food\", \"food\", \"force\", \"friend\", \"friend\", \"fuel\", \"game\", \"game\", \"goal\", \"golf\", \"government\", \"government\", \"government\", \"government\", \"group\", \"group\", \"group\", \"half\", \"half\", \"hand\", \"hand\", \"hand\", \"hand\", \"head\", \"head\", \"health\", \"health\", \"health\", \"health\", \"health\", \"heart\", \"heart\", \"help\", \"help\", \"help\", \"help\", \"help\", \"home\", \"home\", \"home\", \"home\", \"hospital\", \"hour\", \"hour\", \"hour\", \"husband\", \"immunity\", \"impact\", \"impact\", \"income\", \"incompetence\", \"infection\", \"infection\", \"infection\", \"information\", \"information\", \"information\", \"insider\", \"jail\", \"job\", \"job\", \"job\", \"kit\", \"lab\", \"leadership\", \"leadership\", \"life\", \"life\", \"life\", \"life\", \"life\", \"line\", \"lockdown\", \"lockdown\", \"lockdown\", \"loss\", \"lot\", \"lot\", \"lot\", \"lot\", \"love\", \"love\", \"mail\", \"man\", \"man\", \"man\", \"man\", \"manager\", \"manufacturing\", \"market\", \"market\", \"market\", \"medication\", \"message\", \"minute\", \"minute\", \"money\", \"money\", \"month\", \"month\", \"month\", \"month\", \"nation\", \"nation\", \"neighbor\", \"news\", \"news\", \"news\", \"news\", \"news\", \"night\", \"night\", \"nose\", \"number\", \"nursing\", \"nursing\", \"officer\", \"officer\", \"order\", \"order\", \"order\", \"order\", \"panic\", \"panic\", \"panic\", \"paper\", \"paper\", \"passenger\", \"patients\", \"people\", \"people\", \"people\", \"people\", \"people\", \"person\", \"person\", \"personnel\", \"phone\", \"place\", \"place\", \"place\", \"plan\", \"plan\", \"plan\", \"plane\", \"player\", \"pop\", \"port\", \"power\", \"power\", \"power\", \"press\", \"press\", \"press\", \"price\", \"prison\", \"prison\", \"prisoner\", \"problem\", \"problem\", \"problem\", \"propaganda\", \"property\", \"proposal\", \"question\", \"question\", \"question\", \"rate\", \"rate\", \"recession\", \"record\", \"record\", \"record\", \"relief\", \"relief\", \"report\", \"report\", \"report\", \"resident\", \"resident\", \"resource\", \"response\", \"response\", \"response\", \"response\", \"restaurant\", \"restaurant\", \"result\", \"result\", \"return\", \"return\", \"risk\", \"risk\", \"risk\", \"row\", \"rumor\", \"rumor\", \"salary\", \"school\", \"school\", \"scientist\", \"screening\", \"seeker\", \"sense\", \"set\", \"set\", \"share\", \"share\", \"share\", \"shelf\", \"ship\", \"shock\", \"silver\", \"situation\", \"situation\", \"slash\", \"society\", \"society\", \"source\", \"source\", \"speech\", \"staff\", \"staff\", \"state\", \"state\", \"state\", \"state\", \"state\", \"statement\", \"statement\", \"step\", \"step\", \"step\", \"stock\", \"stock\", \"stock\", \"strategy\", \"strategy\", \"street\", \"street\", \"street\", \"street\", \"student\", \"student\", \"student\", \"study\", \"style\", \"success\", \"summer\", \"supply\", \"support\", \"support\", \"support\", \"surface\", \"survivor\", \"symptom\", \"symptom\", \"tag\", \"talk\", \"talk\", \"talk\", \"task\", \"tax\", \"test\", \"test\", \"test\", \"test\", \"testing\", \"testing\", \"testing\", \"theory\", \"thing\", \"thing\", \"thing\", \"time\", \"time\", \"time\", \"today\", \"today\", \"toilet\", \"toll\", \"tour\", \"town\", \"town\", \"tracker\", \"trade\", \"trade\", \"training\", \"training\", \"transfer\", \"transport\", \"trap\", \"travel\", \"travel\", \"travel\", \"travel\", \"trend\", \"trip\", \"trouble\", \"trust\", \"truth\", \"truth\", \"twitter\", \"university\", \"university\", \"update\", \"update\", \"update\", \"use\", \"use\", \"use\", \"use\", \"use\", \"vaccine\", \"vaccine\", \"version\", \"victim\", \"victim\", \"view\", \"village\", \"virus\", \"virus\", \"virus\", \"virus\", \"virus\", \"voter\", \"war\", \"war\", \"warning\", \"water\", \"water\", \"way\", \"way\", \"way\", \"week\", \"week\", \"week\", \"week\", \"week\", \"whistleblower\", \"wizkid\", \"work\", \"work\", \"work\", \"work\", \"work\", \"worker\", \"worker\", \"worker\", \"world\", \"world\", \"world\", \"world\", \"year\", \"year\"]}, \"R\": 30, \"lambda.step\": 0.01, \"plot.opts\": {\"xlab\": \"PC1\", \"ylab\": \"PC2\"}, \"topic.order\": [3, 2, 4, 1, 5]};\n",
       "\n",
       "function LDAvis_load_lib(url, callback){\n",
       "  var s = document.createElement('script');\n",
       "  s.src = url;\n",
       "  s.async = true;\n",
       "  s.onreadystatechange = s.onload = callback;\n",
       "  s.onerror = function(){console.warn(\"failed to load library \" + url);};\n",
       "  document.getElementsByTagName(\"head\")[0].appendChild(s);\n",
       "}\n",
       "\n",
       "if(typeof(LDAvis) !== \"undefined\"){\n",
       "   // already loaded: just create the visualization\n",
       "   !function(LDAvis){\n",
       "       new LDAvis(\"#\" + \"ldavis_el406941123423144485996794039\", ldavis_el406941123423144485996794039_data);\n",
       "   }(LDAvis);\n",
       "}else if(typeof define === \"function\" && define.amd){\n",
       "   // require.js is available: use it to load d3/LDAvis\n",
       "   require.config({paths: {d3: \"https://cdnjs.cloudflare.com/ajax/libs/d3/3.5.5/d3.min\"}});\n",
       "   require([\"d3\"], function(d3){\n",
       "      window.d3 = d3;\n",
       "      LDAvis_load_lib(\"https://cdn.rawgit.com/bmabey/pyLDAvis/files/ldavis.v1.0.0.js\", function(){\n",
       "        new LDAvis(\"#\" + \"ldavis_el406941123423144485996794039\", ldavis_el406941123423144485996794039_data);\n",
       "      });\n",
       "    });\n",
       "}else{\n",
       "    // require.js not available: dynamically load d3 & LDAvis\n",
       "    LDAvis_load_lib(\"https://cdnjs.cloudflare.com/ajax/libs/d3/3.5.5/d3.min.js\", function(){\n",
       "         LDAvis_load_lib(\"https://cdn.rawgit.com/bmabey/pyLDAvis/files/ldavis.v1.0.0.js\", function(){\n",
       "                 new LDAvis(\"#\" + \"ldavis_el406941123423144485996794039\", ldavis_el406941123423144485996794039_data);\n",
       "            })\n",
       "         });\n",
       "}\n",
       "</script>"
      ],
      "text/plain": [
       "<IPython.core.display.HTML object>"
      ]
     },
     "execution_count": 22,
     "metadata": {},
     "output_type": "execute_result"
    }
   ],
   "source": [
    "# View the finished product\n",
    "from IPython.display import HTML\n",
    "\n",
    "HTML(filename=\"CoronavirusTweetTopics5.html\")"
   ]
  },
  {
   "cell_type": "code",
   "execution_count": null,
   "metadata": {},
   "outputs": [],
   "source": []
  }
 ],
 "metadata": {
  "kernelspec": {
   "display_name": "CoronavirusTopicModeling",
   "language": "python",
   "name": "coronavirustopicmodeling"
  },
  "language_info": {
   "codemirror_mode": {
    "name": "ipython",
    "version": 3
   },
   "file_extension": ".py",
   "mimetype": "text/x-python",
   "name": "python",
   "nbconvert_exporter": "python",
   "pygments_lexer": "ipython3",
   "version": "3.7.7"
  }
 },
 "nbformat": 4,
 "nbformat_minor": 4
}
