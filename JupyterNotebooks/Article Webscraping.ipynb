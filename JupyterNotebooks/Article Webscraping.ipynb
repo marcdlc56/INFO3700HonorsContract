{
 "cells": [
  {
   "cell_type": "markdown",
   "metadata": {},
   "source": [
    "### Import Modules"
   ]
  },
  {
   "cell_type": "code",
   "execution_count": 1,
   "metadata": {},
   "outputs": [
    {
     "name": "stderr",
     "output_type": "stream",
     "text": [
      "unable to import 'smart_open.gcs', disabling that module\n"
     ]
    }
   ],
   "source": [
    "from articleURLList import urlist\n",
    "import requests\n",
    "from bs4 import BeautifulSoup\n",
    "from gensim.summarization import summarize\n",
    "import pandas as pd\n",
    "from datetime import datetime, timedelta, date\n"
   ]
  },
  {
   "cell_type": "code",
   "execution_count": 2,
   "metadata": {},
   "outputs": [],
   "source": [
    "# Set empty list of text for final result\n",
    "listoftext = []"
   ]
  },
  {
   "cell_type": "code",
   "execution_count": 3,
   "metadata": {},
   "outputs": [],
   "source": [
    "# I have the articles arranged in chronological order, just because it was easier than trying to grab the correct\n",
    "# publish date from each article and parse the date to be in the correct format\n",
    "start_date = '2020/02/01'\n",
    "articletime = pd.to_datetime(start_date)"
   ]
  },
  {
   "cell_type": "code",
   "execution_count": 4,
   "metadata": {},
   "outputs": [],
   "source": [
    "# Set Column Names\n",
    "columnnames = ['ArticleText', 'PublishDate']\n",
    "df = pd.DataFrame(columns=columnnames)\n"
   ]
  },
  {
   "cell_type": "code",
   "execution_count": null,
   "metadata": {},
   "outputs": [],
   "source": [
    "for article in urlist:\n",
    "    page = requests.get(article).text\n",
    "    soup = BeautifulSoup(page, features=\"html.parser\")\n",
    "\n",
    "    p_tags = soup.find_all('p')\n",
    "    # Get the text from each of the “p” tags and strip surrounding whitespace.\n",
    "    p_tags_text = [tag.get_text().strip() for tag in p_tags]\n",
    "    sentence_list = [sentence for sentence in p_tags_text if not'\\n' in sentence]\n",
    "    sentence_list = [sentence for sentence in sentence_list if '.' in sentence]\n",
    "    # Combine list items into string.\n",
    "    article = ' '.join(sentence_list)\n",
    "\n",
    "    summary = summarize(article, ratio=.9)\n",
    "\n",
    "    summary = str(summary)\n",
    "    newdata = [summary, articletime]\n",
    "\n",
    "    df2 = pd.DataFrame({\"ArticleText\":[summary],\n",
    "                    \"PublishDate\":[articletime]})\n",
    "    df = df.append(df2, ignore_index=True)\n",
    "\n",
    "    articletime = articletime + pd.DateOffset(days=1)"
   ]
  },
  {
   "cell_type": "code",
   "execution_count": null,
   "metadata": {},
   "outputs": [],
   "source": [
    "# Set Dataframe to CSV\n",
    "df.to_csv('articleSummaryandPublishDate.csv', sep=',', encoding='utf-8')"
   ]
  },
  {
   "cell_type": "code",
   "execution_count": 5,
   "metadata": {},
   "outputs": [
    {
     "data": {
      "text/html": [
       "<div>\n",
       "<style scoped>\n",
       "    .dataframe tbody tr th:only-of-type {\n",
       "        vertical-align: middle;\n",
       "    }\n",
       "\n",
       "    .dataframe tbody tr th {\n",
       "        vertical-align: top;\n",
       "    }\n",
       "\n",
       "    .dataframe thead th {\n",
       "        text-align: right;\n",
       "    }\n",
       "</style>\n",
       "<table border=\"1\" class=\"dataframe\">\n",
       "  <thead>\n",
       "    <tr style=\"text-align: right;\">\n",
       "      <th></th>\n",
       "      <th>Unnamed: 0</th>\n",
       "      <th>ArticleText</th>\n",
       "      <th>PublishDate</th>\n",
       "    </tr>\n",
       "  </thead>\n",
       "  <tbody>\n",
       "    <tr>\n",
       "      <th>0</th>\n",
       "      <td>0</td>\n",
       "      <td>Our live coverage of the coronavirus outbreak ...</td>\n",
       "      <td>2020-02-01</td>\n",
       "    </tr>\n",
       "    <tr>\n",
       "      <th>1</th>\n",
       "      <td>1</td>\n",
       "      <td>Please click here to read more live updates on...</td>\n",
       "      <td>2020-02-02</td>\n",
       "    </tr>\n",
       "    <tr>\n",
       "      <th>2</th>\n",
       "      <td>2</td>\n",
       "      <td>Our live coverage of the Wuhan coronavirus out...</td>\n",
       "      <td>2020-02-03</td>\n",
       "    </tr>\n",
       "    <tr>\n",
       "      <th>3</th>\n",
       "      <td>3</td>\n",
       "      <td>Our live coverage of the coronavirus outbreak ...</td>\n",
       "      <td>2020-02-04</td>\n",
       "    </tr>\n",
       "    <tr>\n",
       "      <th>4</th>\n",
       "      <td>4</td>\n",
       "      <td>Our live coverage of the coronavirus outbreak ...</td>\n",
       "      <td>2020-02-05</td>\n",
       "    </tr>\n",
       "  </tbody>\n",
       "</table>\n",
       "</div>"
      ],
      "text/plain": [
       "   Unnamed: 0                                        ArticleText PublishDate\n",
       "0           0  Our live coverage of the coronavirus outbreak ...  2020-02-01\n",
       "1           1  Please click here to read more live updates on...  2020-02-02\n",
       "2           2  Our live coverage of the Wuhan coronavirus out...  2020-02-03\n",
       "3           3  Our live coverage of the coronavirus outbreak ...  2020-02-04\n",
       "4           4  Our live coverage of the coronavirus outbreak ...  2020-02-05"
      ]
     },
     "execution_count": 5,
     "metadata": {},
     "output_type": "execute_result"
    }
   ],
   "source": [
    "# View the Data \n",
    "preview = pd.read_csv('articleSummaryandPublishDate.csv', sep=',', encoding='utf-8')\n",
    "preview.head()"
   ]
  },
  {
   "cell_type": "markdown",
   "metadata": {},
   "source": [
    "### Text Processing"
   ]
  },
  {
   "cell_type": "markdown",
   "metadata": {},
   "source": [
    "#### Open articleTextProcessing.py"
   ]
  },
  {
   "cell_type": "code",
   "execution_count": null,
   "metadata": {},
   "outputs": [],
   "source": []
  }
 ],
 "metadata": {
  "kernelspec": {
   "display_name": "CoronavirusTopicModeling",
   "language": "python",
   "name": "coronavirustopicmodeling"
  },
  "language_info": {
   "codemirror_mode": {
    "name": "ipython",
    "version": 3
   },
   "file_extension": ".py",
   "mimetype": "text/x-python",
   "name": "python",
   "nbconvert_exporter": "python",
   "pygments_lexer": "ipython3",
   "version": "3.7.7"
  }
 },
 "nbformat": 4,
 "nbformat_minor": 4
}
