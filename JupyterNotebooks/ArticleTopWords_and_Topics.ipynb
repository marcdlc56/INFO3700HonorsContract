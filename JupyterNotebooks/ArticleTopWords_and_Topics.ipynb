{
 "cells": [
  {
   "cell_type": "markdown",
   "metadata": {},
   "source": [
    "# Plotting Article Top 10 Words\n"
   ]
  },
  {
   "cell_type": "code",
   "execution_count": 2,
   "metadata": {},
   "outputs": [],
   "source": [
    "import pandas as pd\n",
    "import spacy\n",
    "from sklearn.feature_extraction.text import CountVectorizer\n",
    "import numpy as np\n",
    "import matplotlib.pyplot as plt\n",
    "import seaborn as sns\n",
    "import os\n",
    "%matplotlib inline"
   ]
  },
  {
   "cell_type": "code",
   "execution_count": 3,
   "metadata": {},
   "outputs": [],
   "source": [
    "cleanlist = []\n",
    "fullWordList = []\n",
    "\n",
    "data = pd.read_csv('articleCleanedText.csv')\n"
   ]
  },
  {
   "cell_type": "code",
   "execution_count": 4,
   "metadata": {},
   "outputs": [
    {
     "data": {
      "text/html": [
       "<div>\n",
       "<style scoped>\n",
       "    .dataframe tbody tr th:only-of-type {\n",
       "        vertical-align: middle;\n",
       "    }\n",
       "\n",
       "    .dataframe tbody tr th {\n",
       "        vertical-align: top;\n",
       "    }\n",
       "\n",
       "    .dataframe thead th {\n",
       "        text-align: right;\n",
       "    }\n",
       "</style>\n",
       "<table border=\"1\" class=\"dataframe\">\n",
       "  <thead>\n",
       "    <tr style=\"text-align: right;\">\n",
       "      <th></th>\n",
       "      <th>Unnamed: 0</th>\n",
       "      <th>ArticleText</th>\n",
       "      <th>PublishDate</th>\n",
       "      <th>CleanedArticleText</th>\n",
       "    </tr>\n",
       "  </thead>\n",
       "  <tbody>\n",
       "    <tr>\n",
       "      <th>0</th>\n",
       "      <td>0</td>\n",
       "      <td>Our live coverage of the coronavirus outbreak ...</td>\n",
       "      <td>2020-02-01</td>\n",
       "      <td>['end', 'today', 'people', 'mainland', 'end', ...</td>\n",
       "    </tr>\n",
       "    <tr>\n",
       "      <th>1</th>\n",
       "      <td>1</td>\n",
       "      <td>Please click here to read more live updates on...</td>\n",
       "      <td>2020-02-02</td>\n",
       "      <td>['update', 'field', 'departure', 'assistance',...</td>\n",
       "    </tr>\n",
       "    <tr>\n",
       "      <th>2</th>\n",
       "      <td>2</td>\n",
       "      <td>Our live coverage of the Wuhan coronavirus out...</td>\n",
       "      <td>2020-02-03</td>\n",
       "      <td>['hospital', 'statement', 'isolation', 'home',...</td>\n",
       "    </tr>\n",
       "    <tr>\n",
       "      <th>3</th>\n",
       "      <td>3</td>\n",
       "      <td>Our live coverage of the coronavirus outbreak ...</td>\n",
       "      <td>2020-02-04</td>\n",
       "      <td>['health', 'people', 'death', 'toll', 'people'...</td>\n",
       "    </tr>\n",
       "    <tr>\n",
       "      <th>4</th>\n",
       "      <td>4</td>\n",
       "      <td>Our live coverage of the coronavirus outbreak ...</td>\n",
       "      <td>2020-02-05</td>\n",
       "      <td>['number', 'case', 'increase', 'end', 'day', '...</td>\n",
       "    </tr>\n",
       "  </tbody>\n",
       "</table>\n",
       "</div>"
      ],
      "text/plain": [
       "   Unnamed: 0                                        ArticleText PublishDate  \\\n",
       "0           0  Our live coverage of the coronavirus outbreak ...  2020-02-01   \n",
       "1           1  Please click here to read more live updates on...  2020-02-02   \n",
       "2           2  Our live coverage of the Wuhan coronavirus out...  2020-02-03   \n",
       "3           3  Our live coverage of the coronavirus outbreak ...  2020-02-04   \n",
       "4           4  Our live coverage of the coronavirus outbreak ...  2020-02-05   \n",
       "\n",
       "                                  CleanedArticleText  \n",
       "0  ['end', 'today', 'people', 'mainland', 'end', ...  \n",
       "1  ['update', 'field', 'departure', 'assistance',...  \n",
       "2  ['hospital', 'statement', 'isolation', 'home',...  \n",
       "3  ['health', 'people', 'death', 'toll', 'people'...  \n",
       "4  ['number', 'case', 'increase', 'end', 'day', '...  "
      ]
     },
     "execution_count": 4,
     "metadata": {},
     "output_type": "execute_result"
    }
   ],
   "source": [
    "data.head()"
   ]
  },
  {
   "cell_type": "code",
   "execution_count": 5,
   "metadata": {},
   "outputs": [
    {
     "data": {
      "text/plain": [
       "0    ['end', 'today', 'people', 'mainland', 'end', ...\n",
       "1    ['update', 'field', 'departure', 'assistance',...\n",
       "2    ['hospital', 'statement', 'isolation', 'home',...\n",
       "3    ['health', 'people', 'death', 'toll', 'people'...\n",
       "4    ['number', 'case', 'increase', 'end', 'day', '...\n",
       "Name: CleanedArticleText, dtype: object"
      ]
     },
     "execution_count": 5,
     "metadata": {},
     "output_type": "execute_result"
    }
   ],
   "source": [
    "data[\"CleanedArticleText\"].head()"
   ]
  },
  {
   "cell_type": "code",
   "execution_count": 6,
   "metadata": {},
   "outputs": [],
   "source": [
    "nlp = spacy.load('en')\n",
    "cleanedArticleString = ''"
   ]
  },
  {
   "cell_type": "code",
   "execution_count": 7,
   "metadata": {},
   "outputs": [],
   "source": [
    "# for i in range(len(data))\n",
    "for i in range(len(data)):\n",
    "    dataAfterLemmaFilter = []\n",
    "    cleanArticleVar = data.loc[i, \"CleanedArticleText\"]\n",
    "    doc = nlp(cleanArticleVar)\n",
    "    \n",
    "    if cleanArticleVar != '':\n",
    "        for token in doc:\n",
    "            dataAfterLemmaFilter.append(token.lemma_)\n",
    "\n",
    "        removelist = ['[', ']', '\\'', ',']\n",
    "\n",
    "        for item in dataAfterLemmaFilter:\n",
    "            if item not in removelist:\n",
    "                cleanlist.append(item)\n"
   ]
  },
  {
   "cell_type": "code",
   "execution_count": 22,
   "metadata": {},
   "outputs": [],
   "source": [
    "for word in cleanlist:\n",
    "    cleanedArticleString = cleanedArticleString + ' ' + word"
   ]
  },
  {
   "cell_type": "code",
   "execution_count": 23,
   "metadata": {},
   "outputs": [],
   "source": [
    "# I created a function just because it seemed easier to reuse in the future, \n",
    "def plotTop10Words(wordcount_data, count_vectorizer):\n",
    "    \n",
    "    words = count_vectorizer.get_feature_names()\n",
    "    total_counts = np.zeros(len(words))\n",
    "    for t in wordcount_data:\n",
    "        total_counts += t.toarray()[0]\n",
    "\n",
    "    count_dictionary = (zip(words, total_counts))\n",
    "    count_dictionary = sorted(count_dictionary, key=lambda x: x[1], reverse=True)[0:10]\n",
    "    words = [w[0] for w in count_dictionary]\n",
    "    counts = [w[1] for w in count_dictionary]\n",
    "    x_pos = np.arange(len(words))\n",
    "\n",
    "    plt.figure(2, figsize=(10, 10 / 1.6180))\n",
    "    plt.subplot(title='10 Most Common Words')\n",
    "    sns.set_context(\"notebook\", font_scale=1.25, rc={\"lines.linewidth\": 2.5})\n",
    "    sns.barplot(x_pos, counts, palette='husl')\n",
    "    plt.xticks(x_pos, words, rotation=90)\n",
    "    plt.xlabel('Words')\n",
    "    plt.ylabel('Count of Words')\n",
    "    plt.show()"
   ]
  },
  {
   "cell_type": "code",
   "execution_count": 24,
   "metadata": {},
   "outputs": [
    {
     "data": {
      "image/png": "[encoded data removed]",
      "text/plain": [
       "<Figure size 720x444.994 with 1 Axes>"
      ]
     },
     "metadata": {
      "needs_background": "light"
     },
     "output_type": "display_data"
    }
   ],
   "source": [
    "count_vectorizer = CountVectorizer(stop_words='english')\n",
    "wordcount_data = count_vectorizer.fit_transform(data['CleanedArticleText'])\n",
    "# Plot the top 10 most common words\n",
    "plotTop10Words(wordcount_data, count_vectorizer)"
   ]
  },
  {
   "cell_type": "markdown",
   "metadata": {},
   "source": [
    "# Start of Topic Modeling"
   ]
  },
  {
   "cell_type": "code",
   "execution_count": 25,
   "metadata": {},
   "outputs": [
    {
     "data": {
      "text/plain": [
       "LatentDirichletAllocation(batch_size=128, doc_topic_prior=None,\n",
       "                          evaluate_every=-1, learning_decay=0.7,\n",
       "                          learning_method='batch', learning_offset=10.0,\n",
       "                          max_doc_update_iter=100, max_iter=10,\n",
       "                          mean_change_tol=0.001, n_components=5, n_jobs=-1,\n",
       "                          perp_tol=0.1, random_state=None,\n",
       "                          topic_word_prior=None, total_samples=1000000.0,\n",
       "                          verbose=0)"
      ]
     },
     "execution_count": 25,
     "metadata": {},
     "output_type": "execute_result"
    }
   ],
   "source": [
    "import warnings\n",
    "warnings.simplefilter(\"ignore\", DeprecationWarning)\n",
    "# Load the LDA model from sk-learn library\n",
    "from sklearn.decomposition import LatentDirichletAllocation as LDA\n",
    " \n",
    "# create a function that uses the count_vectorizer initalized for the top 10 words plot to find and print topics \n",
    "# then fit the lda model to the data\n",
    "def print_topics(model, count_vectorizer, n_top_words):\n",
    "    words = count_vectorizer.get_feature_names()\n",
    "    for topic_idx, topic in enumerate(model.components_):\n",
    "        print(\"\\nTopic #%d:\" % topic_idx)\n",
    "        print(\" \".join([words[i]\n",
    "                        for i in topic.argsort()[:-n_top_words - 1:-1]]))\n",
    "        \n",
    "# Set the number of topics and number of words\n",
    "number_topics = 5\n",
    "number_words = 10\n",
    "# Initialize and fit the LDA model\n",
    "lda = LDA(n_components=number_topics, n_jobs=-1)\n",
    "lda.fit(count_data)"
   ]
  },
  {
   "cell_type": "code",
   "execution_count": null,
   "metadata": {},
   "outputs": [],
   "source": []
  },
  {
   "cell_type": "code",
   "execution_count": 26,
   "metadata": {},
   "outputs": [
    {
     "name": "stdout",
     "output_type": "stream",
     "text": [
      "Topics found: \n",
      "\n",
      "Topic #0:\n",
      "health test state case week care time country report day\n",
      "\n",
      "Topic #1:\n",
      "test state health statement hospital day people case order city\n",
      "\n",
      "Topic #2:\n",
      "case health people state number week work city report country\n",
      "\n",
      "Topic #3:\n",
      "health case people death virus contact mainland day screening ship\n",
      "\n",
      "Topic #4:\n",
      "case health test state ship people passenger death number report\n"
     ]
    }
   ],
   "source": [
    "# Print the topics found by LDA model\n",
    "print(\"Topics found: \")\n",
    "print_topics(lda, count_vectorizer, number_words)"
   ]
  },
  {
   "cell_type": "code",
   "execution_count": 28,
   "metadata": {},
   "outputs": [
    {
     "name": "stdout",
     "output_type": "stream",
     "text": [
      "CPU times: user 964 ms, sys: 24.1 ms, total: 988 ms\n",
      "Wall time: 2.15 s\n"
     ]
    }
   ],
   "source": [
    "%%time\n",
    "from pyLDAvis import sklearn as sklearn_lda\n",
    "import pickle \n",
    "import pyLDAvis\n",
    "LDAvis_data_filepath = os.path.join('./CoronaVirusArticleTopics_'+str(number_topics))\n",
    "\n",
    "# \n",
    "LDAvis_Prepared = sklearn_lda.prepare(lda, count_data, count_vectorizer)\n",
    "with open(LDAvis_data_filepath, 'wb') as f:\n",
    "    pickle.dump(LDAvis_Prepared, f)\n",
    "        \n",
    "# load the pre-prepared pyLDAvis data from disk and write it to an HTML file for future use\n",
    "with open(LDAvis_data_filepath,'rb') as f:\n",
    "    LDAvis_Prepared = pickle.load(f)\n",
    "    \n",
    "pyLDAvis.save_html(LDAvis_Prepared, './CoronaVirusArticleTopics_'+ str(number_topics) +'.html')"
   ]
  },
  {
   "cell_type": "code",
   "execution_count": 30,
   "metadata": {},
   "outputs": [
    {
     "data": {
      "text/html": [
       "\n",
       "<link rel=\"stylesheet\" type=\"text/css\" href=\"https://cdn.rawgit.com/bmabey/pyLDAvis/files/ldavis.v1.0.0.css\">\n",
       "\n",
       "\n",
       "<div id=\"ldavis_el405261123305852963314589817\"></div>\n",
       "<script type=\"text/javascript\">\n",
       "\n",
       "var ldavis_el405261123305852963314589817_data = {\"mdsDat\": {\"x\": [0.05101037703585527, -0.03765379020708333, -0.03892668624483697, -0.08435500594054611, 0.10992510535661135], \"y\": [0.09051195035717267, 0.03575587846818086, -0.045522579962956465, -0.019730184463653926, -0.06101506439874303], \"topics\": [1, 2, 3, 4, 5], \"cluster\": [1, 1, 1, 1, 1], \"Freq\": [48.95668462909539, 18.96842274847242, 16.95753457630009, 9.769463371130938, 5.3478946750011565]}, \"tinfo\": {\"Term\": [\"health\", \"ship\", \"test\", \"mainland\", \"passenger\", \"people\", \"case\", \"cruise\", \"contact\", \"death\", \"virus\", \"hospital\", \"statement\", \"day\", \"order\", \"screening\", \"city\", \"week\", \"director\", \"travel\", \"toll\", \"state\", \"event\", \"resident\", \"today\", \"lab\", \"team\", \"response\", \"care\", \"citizen\", \"dock\", \"crew\", \"exposure\", \"passenger\", \"cruise\", \"disembarkation\", \"ship\", \"estimate\", \"cruises\", \"evacuation\", \"precaution\", \"nursing\", \"plane\", \"incubation\", \"hospitalization\", \"plant\", \"board\", \"immunization\", \"adult\", \"symptom\", \"ballot\", \"gaynor\", \"antibody\", \"confirmation\", \"fatality\", \"figure\", \"researcher\", \"indication\", \"budget\", \"holiday\", \"mainland\", \"medicine\", \"port\", \"release\", \"case\", \"toll\", \"meeting\", \"travel\", \"woman\", \"health\", \"number\", \"centers\", \"death\", \"world\", \"virus\", \"press\", \"test\", \"contact\", \"hospital\", \"report\", \"states\", \"state\", \"people\", \"citizen\", \"statement\", \"country\", \"day\", \"government\", \"home\", \"work\", \"time\", \"detainee\", \"prisoner\", \"transport\", \"minority\", \"jail\", \"weather\", \"graduate\", \"resignation\", \"opportunity\", \"violence\", \"deposit\", \"chain\", \"target\", \"military\", \"attack\", \"positivity\", \"gender\", \"surgeon\", \"direction\", \"window\", \"containment\", \"airplane\", \"humidity\", \"speech\", \"audience\", \"lobby\", \"motion\", \"counseling\", \"crime\", \"plumbing\", \"police\", \"demand\", \"stage\", \"trial\", \"respirator\", \"housing\", \"file\", \"town\", \"complication\", \"talk\", \"community\", \"practice\", \"city\", \"package\", \"officer\", \"work\", \"answer\", \"letter\", \"today\", \"week\", \"supply\", \"government\", \"office\", \"people\", \"state\", \"facility\", \"case\", \"way\", \"health\", \"number\", \"director\", \"country\", \"report\", \"order\", \"care\", \"virus\", \"help\", \"increase\", \"day\", \"test\", \"world\", \"release\", \"death\", \"use\", \"time\", \"agreement\", \"criticism\", \"neighbor\", \"bag\", \"dewine\", \"rule\", \"walkout\", \"smalls\", \"relationship\", \"bail\", \"unemployment\", \"moment\", \"format\", \"cancer\", \"application\", \"glitch\", \"lending\", \"failure\", \"lacey\", \"music\", \"dorries\", \"pound\", \"exception\", \"gas\", \"becker\", \"bukele\", \"lorimer\", \"competition\", \"sports\", \"collaboration\", \"transportation\", \"cost\", \"body\", \"insurance\", \"program\", \"camera\", \"bank\", \"task\", \"briefing\", \"business\", \"item\", \"spring\", \"administration\", \"step\", \"food\", \"truck\", \"care\", \"facility\", \"fact\", \"drug\", \"period\", \"week\", \"resident\", \"equipment\", \"university\", \"end\", \"time\", \"health\", \"test\", \"order\", \"team\", \"state\", \"country\", \"home\", \"day\", \"report\", \"use\", \"testing\", \"statement\", \"death\", \"case\", \"people\", \"travel\", \"help\", \"states\", \"adoption\", \"morse\", \"wrestlemania\", \"pistons\", \"price\", \"couple\", \"operations\", \"voucher\", \"studio\", \"monument\", \"stadium\", \"bulls\", \"lyons\", \"ivy\", \"rail\", \"terminal\", \"charge\", \"frasure\", \"soldier\", \"picture\", \"ticket\", \"entertainment\", \"appointment\", \"soldiers\", \"fraction\", \"fusion\", \"clothing\", \"sharing\", \"relocation\", \"awareness\", \"space\", \"games\", \"designer\", \"veteran\", \"event\", \"shoreline\", \"cleaning\", \"gathering\", \"store\", \"night\", \"test\", \"order\", \"hospital\", \"service\", \"statement\", \"place\", \"resident\", \"city\", \"team\", \"doctor\", \"state\", \"schedule\", \"day\", \"testing\", \"family\", \"health\", \"people\", \"citizen\", \"news\", \"week\", \"conference\", \"virus\", \"plan\", \"time\", \"case\", \"report\", \"travel\", \"country\", \"use\", \"home\", \"states\", \"index\", \"strategy\", \"emergencies\", \"tailor\", \"authorities\", \"behavior\", \"coronaviruse\", \"surface\", \"requirement\", \"psychologist\", \"surveillance\", \"football\", \"circumstance\", \"camel\", \"ethanol\", \"weapons\", \"destruction\", \"bleach\", \"glass\", \"sodium\", \"convict\", \"disinfection\", \"countering\", \"object\", \"metal\", \"sampling\", \"paper\", \"packaging\", \"tap\", \"damage\", \"correspondent\", \"inspection\", \"danger\", \"grief\", \"household\", \"circle\", \"disruption\", \"finish\", \"product\", \"research\", \"protection\", \"screening\", \"author\", \"scale\", \"syndrome\", \"observation\", \"conduct\", \"contact\", \"health\", \"mainland\", \"people\", \"death\", \"lab\", \"case\", \"virus\", \"response\", \"decision\", \"point\", \"day\", \"toll\", \"director\", \"today\", \"risk\", \"ship\", \"resident\", \"flight\", \"report\", \"number\", \"passenger\", \"travel\", \"statement\", \"test\", \"cruise\"], \"Freq\": [435.0, 137.0, 271.0, 69.0, 118.0, 218.0, 557.0, 98.0, 69.0, 168.0, 156.0, 126.0, 144.0, 141.0, 71.0, 30.0, 84.0, 102.0, 62.0, 116.0, 44.0, 233.0, 27.0, 39.0, 65.0, 31.0, 56.0, 41.0, 76.0, 63.0, 21.80372137085544, 17.859693585119622, 15.905628482087812, 112.27589097925612, 92.0461753672, 9.035231444830796, 128.28148975349674, 9.020502147901343, 8.053029360767848, 8.052764507834627, 8.051814073856015, 7.064720341511987, 18.399903092672606, 6.090449100325996, 6.081913838757822, 6.065764586475716, 37.22765702807719, 7.771837129223255, 6.889032828772208, 49.81489800027695, 5.1081178481434915, 5.1081178481434915, 5.106004651537323, 6.783252888345722, 5.862477943746407, 8.306318026805139, 14.9284351552644, 4.125787381354498, 4.12578733248634, 4.124638983487245, 58.87969683259807, 9.029445148685834, 16.814626485414827, 101.01011773246205, 418.134443409574, 35.36200967517129, 11.306530258755748, 85.17443544911453, 35.08351399552711, 274.4757885395052, 105.9255434780357, 47.887052611158985, 111.30053892083332, 51.545043617330755, 101.41880508396092, 49.62469985105415, 158.3626311956016, 48.49316274103782, 80.53007507921403, 103.91316466469316, 56.48312031484426, 129.87145176338447, 121.72244805330814, 43.57508449401569, 84.4298265831898, 74.38640136913516, 75.00890713923734, 46.51498278147688, 48.05396097379576, 41.10273634595922, 40.75862988149293, 15.883510322319795, 6.246699989297193, 5.403590561758307, 5.398235968740847, 16.752211895186512, 4.537934154751015, 4.537420962532008, 4.537420962532004, 4.535867831085779, 3.665309730698957, 3.6653092342174496, 3.661751675762992, 3.6260708314651233, 14.133433995128426, 2.7926167012865952, 2.7926165913651673, 2.7922590930419866, 2.791689466899798, 2.7891653011118636, 2.7886163688450907, 2.7874416655516066, 2.781257502737377, 1.9199238141513018, 1.9199238141513018, 1.9199236066408012, 1.9199235650985438, 1.9199234476368046, 1.91992339272765, 1.9199232795902565, 1.9195480712536097, 14.897019957438417, 8.898773313455452, 5.898910883209053, 7.565174060072198, 3.6642716528307555, 6.206820492397337, 3.6136648761227685, 15.574451606182544, 5.762499869936257, 8.61809120112081, 19.019347166475185, 6.647556299170925, 30.72616274447704, 9.329703354120893, 11.924332436949788, 31.189312256090524, 7.191654463801591, 8.700724558962715, 22.980183193338355, 31.2643746605521, 15.63915732858165, 26.102378623749757, 19.404862433570777, 46.44462056276329, 46.225481886745214, 16.15016591231697, 76.80405507620256, 10.857888561413926, 58.467801132503006, 32.154793226875015, 17.681237307979863, 26.76295628498907, 27.69014070008723, 17.550911657408044, 17.82092732024694, 23.39179764786029, 14.87491205390952, 12.818464321855974, 20.860939690139055, 26.258687609417265, 16.25443460404297, 18.6145176677546, 19.570463087782624, 15.838608485832792, 15.927639814311508, 4.633343834039732, 4.621311459920699, 4.6054828775159455, 3.741958857056705, 3.740521090228752, 6.471263275861214, 2.850896160440469, 2.850896160440455, 2.850604056510385, 2.850415529906125, 2.8484271849491143, 6.4145080518385145, 1.9603118963589037, 1.960311816092461, 1.9603116861220997, 1.9603116861220997, 1.9603116861220997, 1.9603116861220997, 1.9603116861220997, 1.9603114767272685, 1.9603114767272685, 1.9602086264208582, 1.9601867385799017, 1.9599637008868838, 1.9594607043813541, 1.9594163352490008, 1.9581197219233, 1.9581197219118895, 1.9581197219014688, 1.9557099116850432, 4.553181332401843, 5.839605109432999, 11.341512691318366, 6.20534917137745, 13.949243841178317, 5.066246586328499, 5.5142580382798965, 8.549171776815912, 13.635681038520142, 12.8567975463274, 3.4108392726772268, 5.524953938159312, 17.802574111721317, 8.893723189510487, 11.516234025894125, 4.633086849285346, 26.963742822841038, 17.499003857509873, 8.44128942554293, 14.27471412538269, 13.494807582456088, 27.46857395043961, 14.402923153774166, 8.199725725021741, 12.483592870424769, 12.089894389594475, 24.211212674437313, 57.22157692614916, 40.41710765723627, 18.254229632705048, 15.388733236534451, 32.498889913748165, 24.109247370378473, 18.481847965078952, 22.127063291728675, 23.39868200533224, 16.080182302522875, 14.24230356935713, 19.054173684600027, 19.520050304480595, 28.375408742797163, 20.35294709799009, 16.207138496145557, 12.198648385386065, 12.323729081059884, 3.442387686864945, 2.62323063393211, 2.6232305749149543, 2.6229942642080553, 2.622645427075548, 2.6208286478322647, 1.803470928688404, 1.8034708667023756, 1.8034706251258175, 1.8034706251258175, 1.8033470659462603, 1.8032226096363757, 1.8028556932731599, 1.8028212854289862, 1.800046382457019, 1.7997475127075433, 1.799525607888102, 1.7949663746340083, 4.878964553945753, 2.622246783398087, 2.6223517290742677, 2.1013494036661817, 2.1010143217799784, 0.9837111841987379, 0.9837111841987379, 0.9837111841987379, 0.9837111841987379, 0.9837111841987379, 0.9837111841987379, 0.9837111841987379, 3.4431120588867543, 3.4428929697397384, 0.9837111841987379, 3.443528840294602, 14.267145078939262, 1.8034817897619058, 1.8033778394323166, 6.684502313542608, 5.716363247508292, 7.7313921376680215, 41.631921562862104, 15.331333431395239, 22.2369862785581, 8.947518106633005, 22.31069502934799, 9.607195964624239, 9.53588131136887, 14.92975197781377, 11.664438919489285, 5.595315315059439, 22.851671146944373, 7.418195489288014, 16.59056659789483, 9.991267762901522, 7.094694955263017, 22.84121467135452, 16.431069622929034, 9.06754578760717, 9.16210824026414, 10.431905603850543, 8.231630873195172, 11.24546102708826, 6.256747608675486, 8.991024646548587, 15.911541803392932, 10.591620010224872, 9.182638502909402, 9.373225585841077, 8.077376438271783, 8.116717727901253, 7.301032299297817, 2.28500817720723, 2.283999456586545, 2.283999456586521, 1.5698817760576904, 1.5699197260440807, 1.5697158191927743, 2.999333566414789, 4.427594782891791, 2.2851357324460353, 2.284114350928938, 2.2836878899226725, 2.283063079788692, 2.1746569322729843, 0.8568779730341015, 0.8568779730341015, 0.8568779730341015, 0.8568779730341015, 0.8568779730341015, 0.8568779730341015, 0.8568779730341015, 0.8568779730341015, 0.8568779730341015, 0.8568779730341015, 0.8568779730341015, 0.8568779730341015, 0.8568778848711143, 0.8568778848711143, 0.8568778848711143, 0.8568778848711143, 0.8568778848711143, 2.1005321439442546, 4.429010479360418, 1.5699438911250534, 1.5699977304294328, 2.274547083119073, 1.5713721649487895, 1.5700234482887176, 2.2456831133882345, 5.142403592205839, 2.2853553929883095, 4.130898113899546, 6.495543036022625, 2.098965994235936, 2.8470940585442652, 1.571030481374772, 1.5683860640397769, 3.6669604544202707, 9.125564157273514, 22.499378991187587, 7.952258145892462, 13.55508229810909, 11.636955048593789, 4.721586525231568, 17.909893139053317, 9.749995354337893, 5.33117740994305, 3.993264564160195, 3.7142635480905297, 6.902823339027164, 4.66357214174893, 5.106738802441239, 5.064945752086446, 4.26553203448261, 5.866846313038175, 3.984226456248653, 4.396558325032494, 5.218516506697576, 4.829853143100695, 4.59472184594097, 4.526265031559442, 4.683000544319384, 4.680846924746605, 3.984227471294981], \"Total\": [435.0, 137.0, 271.0, 69.0, 118.0, 218.0, 557.0, 98.0, 69.0, 168.0, 156.0, 126.0, 144.0, 141.0, 71.0, 30.0, 84.0, 102.0, 62.0, 116.0, 44.0, 233.0, 27.0, 39.0, 65.0, 31.0, 56.0, 41.0, 76.0, 63.0, 22.466581621857202, 18.53569922952977, 16.572480547281454, 118.84473475790911, 98.39598251713326, 9.696542528256803, 137.68944628096145, 9.694125078448904, 8.714393985461298, 8.714283093789321, 8.714094545231854, 7.731488964947607, 20.264461201627963, 6.749964615527758, 6.748976173808581, 6.746887577456347, 41.47768136456616, 8.680658532093277, 7.702696641068582, 55.92363332631157, 5.767633691322503, 5.767633691322503, 5.767437293135697, 7.699981242426813, 6.712740683756688, 9.519747496029233, 17.1955775376368, 4.78530291409184, 4.785302902289891, 4.78517472911511, 69.39557848309731, 10.568908110535967, 20.029618021185087, 126.64075778200304, 557.1353421710199, 44.79803086275268, 13.418551568734436, 116.45571521741893, 45.07106473775327, 435.50576026069945, 156.37762371618544, 65.92032771730095, 168.64231342152507, 72.73319103720297, 156.12497838466518, 71.14012413403833, 271.35119494986384, 69.64608705265157, 126.76640114185646, 170.81212388703509, 85.74088950420888, 233.92899839294552, 218.50616763509967, 63.10980109771634, 144.34761429301653, 135.42966772544568, 141.49030005802706, 81.54056826888798, 89.41460574991935, 90.40316729379283, 93.54288388972857, 17.384242673802003, 6.969439166282514, 6.092514864442844, 6.0916056683537025, 19.148112841634024, 5.219453143236746, 5.2194567539561385, 5.219456753956138, 5.219712550759621, 4.346751623271192, 4.346751582311809, 4.34719825481268, 4.347054865966276, 16.961282889648448, 3.4740586801056623, 3.4740586706456384, 3.4741034962622286, 3.4741750234124904, 3.4744919763192113, 3.4745608835194717, 3.4747084046369294, 3.4754846676027107, 2.601365748621124, 2.601365748621124, 2.6013657319206125, 2.6013657280727633, 2.601365718178006, 2.6013657142754023, 2.60136570452018, 2.601412820224496, 21.19234812800786, 12.937285173800333, 8.534941850063614, 11.224380760696762, 5.238050781493804, 9.293977032459845, 5.17299524611283, 26.17345022072501, 8.873207026131066, 14.701007259501981, 41.78076441257886, 10.745545878341321, 84.35322538518601, 17.33358885989173, 24.483548876161706, 90.40316729379283, 12.452294228355543, 16.393090993485707, 65.0762653749022, 102.13865814656793, 38.25334367939039, 81.54056826888798, 53.936979315067596, 218.50616763509967, 233.92899839294552, 44.000816186284, 557.1353421710199, 23.43786987706993, 435.50576026069945, 156.37762371618544, 62.34218914944604, 135.42966772544568, 170.81212388703509, 71.41659573471865, 76.67149984461585, 156.12497838466518, 55.11963222581103, 38.70404767826113, 141.49030005802706, 271.35119494986384, 72.73319103720297, 126.64075778200304, 168.64231342152507, 74.39621554168973, 93.54288388972857, 5.31124762755832, 5.3110316524505405, 5.309784984012013, 4.420230694249795, 4.420209920791148, 7.917937424130644, 3.529180807201014, 3.5291808072010156, 3.5291359051518882, 3.5292105347177483, 3.529057960454893, 7.966165938637466, 2.6380820267911096, 2.6380820182311697, 2.63808200393196, 2.63808200393196, 2.63808200393196, 2.63808200393196, 2.63808200393196, 2.6380819806692277, 2.6380819806692277, 2.638092559037952, 2.638094738145076, 2.638117596238904, 2.638169033807906, 2.6381735412751857, 2.6383063535071747, 2.6383063535083435, 2.638306353509411, 2.6379443057156573, 6.182245679473105, 7.954312064070841, 15.939986850599665, 8.716192674641647, 20.814480336054274, 7.231562056924022, 8.772421139638931, 15.547261982052335, 28.84214071573138, 27.186304041570146, 5.26663893206579, 9.720553557429861, 42.9291892426262, 18.084580442863547, 25.39832268356298, 7.929361238989209, 76.67149984461585, 44.000816186284, 17.309685693965704, 36.32115370690491, 34.384854594525734, 102.13865814656793, 39.16174500021811, 17.16147569604991, 33.195889909110285, 31.645207663332556, 93.54288388972857, 435.50576026069945, 271.35119494986384, 71.41659573471865, 56.45450161230106, 233.92899839294552, 135.42966772544568, 89.41460574991935, 141.49030005802706, 170.81212388703509, 74.39621554168973, 58.93798758393701, 144.34761429301653, 168.64231342152507, 557.1353421710199, 218.50616763509967, 116.45571521741893, 55.11963222581103, 85.74088950420888, 4.135138123593163, 3.315258987335934, 3.3152589863360116, 3.315305852163599, 3.3153098736329567, 3.3157351505702595, 2.495499300071944, 2.495499299021719, 2.4954992934945093, 2.4954992934945093, 2.495523851550847, 2.4955485340866628, 2.495552797489225, 2.4956280652091047, 2.496178114394531, 2.496237444144053, 2.496076673360194, 2.4971853608957764, 7.53322684711964, 4.18921941214862, 4.206531056080299, 3.418755760113028, 3.4187896925019423, 1.6757396120748747, 1.6757396120748747, 1.6757396120748747, 1.6757396120748747, 1.6757396120748747, 1.6757396120748747, 1.6757396120748747, 5.880644009189272, 5.880417076888308, 1.6757396120748747, 6.008298043716884, 27.724302065431644, 3.209838592327753, 3.2096968683368186, 13.584701620401955, 12.546490990110215, 22.882285526458073, 271.35119494986384, 71.41659573471865, 126.76640114185646, 32.55560986726633, 144.34761429301653, 37.24200579440608, 39.16174500021811, 84.35322538518601, 56.45450161230106, 18.056497344665928, 233.92899839294552, 31.237311847482076, 141.49030005802706, 58.93798758393701, 34.30563395032096, 435.50576026069945, 218.50616763509967, 63.10980109771634, 65.78673063624626, 102.13865814656793, 58.26792830596995, 156.12497838466518, 31.646453705005868, 93.54288388972857, 557.1353421710199, 170.81212388703509, 116.45571521741893, 135.42966772544568, 74.39621554168973, 89.41460574991935, 85.74088950420888, 2.998175350703986, 2.998399435038178, 2.9983994350381833, 2.2843459868940923, 2.2844946321304676, 2.2845712316648132, 4.532110214108103, 6.885693185860463, 3.8179161805090702, 3.889422019715356, 3.889864942914377, 3.889966781144202, 3.895486034276716, 1.5700450946428135, 1.5700450946428135, 1.5700450946428135, 1.5700450946428135, 1.5700450946428135, 1.5700450946428135, 1.5700450946428135, 1.5700450946428135, 1.5700450946428135, 1.5700450946428135, 1.5700450946428135, 1.5700450946428135, 1.570045113546004, 1.570045113546004, 1.570045113546004, 1.570045113546004, 1.570045113546004, 3.9118914336111885, 8.68702633406413, 3.1040964994770563, 3.104689015417876, 4.803751828632196, 3.1574475685715955, 3.1571645050615884, 4.886857561707602, 13.835130591918293, 5.669205368287303, 15.549301412046049, 30.3047373424818, 5.876829421775884, 9.333400941246998, 3.92374545928454, 3.9254261456463864, 14.68323418036831, 69.64608705265157, 435.50576026069945, 69.39557848309731, 218.50616763509967, 168.64231342152507, 31.016718696153777, 557.1353421710199, 156.12497838466518, 41.976555537214544, 24.20255167332819, 20.593838599748917, 141.49030005802706, 44.79803086275268, 62.34218914944604, 65.0762653749022, 40.90011251953152, 137.68944628096145, 39.16174500021811, 59.66932349825831, 170.81212388703509, 156.37762371618544, 118.84473475790911, 116.45571521741893, 144.34761429301653, 271.35119494986384, 98.39598251713326], \"Category\": [\"Default\", \"Default\", \"Default\", \"Default\", \"Default\", \"Default\", \"Default\", \"Default\", \"Default\", \"Default\", \"Default\", \"Default\", \"Default\", \"Default\", \"Default\", \"Default\", \"Default\", \"Default\", \"Default\", \"Default\", \"Default\", \"Default\", \"Default\", \"Default\", \"Default\", \"Default\", \"Default\", \"Default\", \"Default\", \"Default\", \"Topic1\", \"Topic1\", \"Topic1\", \"Topic1\", \"Topic1\", \"Topic1\", \"Topic1\", \"Topic1\", \"Topic1\", \"Topic1\", \"Topic1\", \"Topic1\", \"Topic1\", \"Topic1\", \"Topic1\", \"Topic1\", \"Topic1\", \"Topic1\", \"Topic1\", \"Topic1\", \"Topic1\", \"Topic1\", \"Topic1\", \"Topic1\", \"Topic1\", \"Topic1\", \"Topic1\", \"Topic1\", \"Topic1\", \"Topic1\", \"Topic1\", \"Topic1\", \"Topic1\", \"Topic1\", \"Topic1\", \"Topic1\", \"Topic1\", \"Topic1\", \"Topic1\", \"Topic1\", \"Topic1\", \"Topic1\", \"Topic1\", \"Topic1\", \"Topic1\", \"Topic1\", \"Topic1\", \"Topic1\", \"Topic1\", \"Topic1\", \"Topic1\", \"Topic1\", \"Topic1\", \"Topic1\", \"Topic1\", \"Topic1\", \"Topic1\", \"Topic1\", \"Topic1\", \"Topic1\", \"Topic1\", \"Topic2\", \"Topic2\", \"Topic2\", \"Topic2\", \"Topic2\", \"Topic2\", \"Topic2\", \"Topic2\", \"Topic2\", \"Topic2\", \"Topic2\", \"Topic2\", \"Topic2\", \"Topic2\", \"Topic2\", \"Topic2\", \"Topic2\", \"Topic2\", \"Topic2\", \"Topic2\", \"Topic2\", \"Topic2\", \"Topic2\", \"Topic2\", \"Topic2\", \"Topic2\", \"Topic2\", \"Topic2\", \"Topic2\", \"Topic2\", \"Topic2\", \"Topic2\", \"Topic2\", \"Topic2\", \"Topic2\", \"Topic2\", \"Topic2\", \"Topic2\", \"Topic2\", \"Topic2\", \"Topic2\", \"Topic2\", \"Topic2\", \"Topic2\", \"Topic2\", \"Topic2\", \"Topic2\", \"Topic2\", \"Topic2\", \"Topic2\", \"Topic2\", \"Topic2\", \"Topic2\", \"Topic2\", \"Topic2\", \"Topic2\", \"Topic2\", \"Topic2\", \"Topic2\", \"Topic2\", \"Topic2\", \"Topic2\", \"Topic2\", \"Topic2\", \"Topic2\", \"Topic2\", \"Topic2\", \"Topic2\", \"Topic2\", \"Topic2\", \"Topic2\", \"Topic2\", \"Topic2\", \"Topic2\", \"Topic2\", \"Topic3\", \"Topic3\", \"Topic3\", \"Topic3\", \"Topic3\", \"Topic3\", \"Topic3\", \"Topic3\", \"Topic3\", \"Topic3\", \"Topic3\", \"Topic3\", \"Topic3\", \"Topic3\", \"Topic3\", \"Topic3\", \"Topic3\", \"Topic3\", \"Topic3\", \"Topic3\", \"Topic3\", \"Topic3\", \"Topic3\", \"Topic3\", \"Topic3\", \"Topic3\", \"Topic3\", \"Topic3\", \"Topic3\", \"Topic3\", \"Topic3\", \"Topic3\", \"Topic3\", \"Topic3\", \"Topic3\", \"Topic3\", \"Topic3\", \"Topic3\", \"Topic3\", \"Topic3\", \"Topic3\", \"Topic3\", \"Topic3\", \"Topic3\", \"Topic3\", \"Topic3\", \"Topic3\", \"Topic3\", \"Topic3\", \"Topic3\", \"Topic3\", \"Topic3\", \"Topic3\", \"Topic3\", \"Topic3\", \"Topic3\", \"Topic3\", \"Topic3\", \"Topic3\", \"Topic3\", \"Topic3\", \"Topic3\", \"Topic3\", \"Topic3\", \"Topic3\", \"Topic3\", \"Topic3\", \"Topic3\", \"Topic3\", \"Topic3\", \"Topic3\", \"Topic3\", \"Topic3\", \"Topic3\", \"Topic3\", \"Topic4\", \"Topic4\", \"Topic4\", \"Topic4\", \"Topic4\", \"Topic4\", \"Topic4\", \"Topic4\", \"Topic4\", \"Topic4\", \"Topic4\", \"Topic4\", \"Topic4\", \"Topic4\", \"Topic4\", \"Topic4\", \"Topic4\", \"Topic4\", \"Topic4\", \"Topic4\", \"Topic4\", \"Topic4\", \"Topic4\", \"Topic4\", \"Topic4\", \"Topic4\", \"Topic4\", \"Topic4\", \"Topic4\", \"Topic4\", \"Topic4\", \"Topic4\", \"Topic4\", \"Topic4\", \"Topic4\", \"Topic4\", \"Topic4\", \"Topic4\", \"Topic4\", \"Topic4\", \"Topic4\", \"Topic4\", \"Topic4\", \"Topic4\", \"Topic4\", \"Topic4\", \"Topic4\", \"Topic4\", \"Topic4\", \"Topic4\", \"Topic4\", \"Topic4\", \"Topic4\", \"Topic4\", \"Topic4\", \"Topic4\", \"Topic4\", \"Topic4\", \"Topic4\", \"Topic4\", \"Topic4\", \"Topic4\", \"Topic4\", \"Topic4\", \"Topic4\", \"Topic4\", \"Topic4\", \"Topic4\", \"Topic4\", \"Topic4\", \"Topic4\", \"Topic5\", \"Topic5\", \"Topic5\", \"Topic5\", \"Topic5\", \"Topic5\", \"Topic5\", \"Topic5\", \"Topic5\", \"Topic5\", \"Topic5\", \"Topic5\", \"Topic5\", \"Topic5\", \"Topic5\", \"Topic5\", \"Topic5\", \"Topic5\", \"Topic5\", \"Topic5\", \"Topic5\", \"Topic5\", \"Topic5\", \"Topic5\", \"Topic5\", \"Topic5\", \"Topic5\", \"Topic5\", \"Topic5\", \"Topic5\", \"Topic5\", \"Topic5\", \"Topic5\", \"Topic5\", \"Topic5\", \"Topic5\", \"Topic5\", \"Topic5\", \"Topic5\", \"Topic5\", \"Topic5\", \"Topic5\", \"Topic5\", \"Topic5\", \"Topic5\", \"Topic5\", \"Topic5\", \"Topic5\", \"Topic5\", \"Topic5\", \"Topic5\", \"Topic5\", \"Topic5\", \"Topic5\", \"Topic5\", \"Topic5\", \"Topic5\", \"Topic5\", \"Topic5\", \"Topic5\", \"Topic5\", \"Topic5\", \"Topic5\", \"Topic5\", \"Topic5\", \"Topic5\", \"Topic5\", \"Topic5\", \"Topic5\", \"Topic5\", \"Topic5\", \"Topic5\", \"Topic5\"], \"logprob\": [30.0, 29.0, 28.0, 27.0, 26.0, 25.0, 24.0, 23.0, 22.0, 21.0, 20.0, 19.0, 18.0, 17.0, 16.0, 15.0, 14.0, 13.0, 12.0, 11.0, 10.0, 9.0, 8.0, 7.0, 6.0, 5.0, 4.0, 3.0, 2.0, 1.0, -5.6974, -5.8969, -6.0128, -4.0585, -4.2572, -6.5783, -3.9253, -6.58, -6.6934, -6.6935, -6.6936, -6.8244, -5.8671, -6.9728, -6.9742, -6.9768, -5.1624, -6.729, -6.8495, -4.8712, -7.1486, -7.1486, -7.1491, -6.865, -7.0109, -6.6625, -6.0762, -7.3622, -7.3622, -7.3625, -4.704, -6.579, -5.9572, -4.1643, -2.7437, -5.2138, -6.3541, -4.3348, -5.2217, -3.1646, -4.1167, -4.9106, -4.0672, -4.837, -4.1602, -4.875, -3.7146, -4.8981, -4.3908, -4.1359, -4.7455, -3.9129, -3.9777, -5.005, -4.3436, -4.4702, -4.4619, -4.9397, -4.9072, -5.0634, -5.0718, -5.066, -5.9993, -6.1443, -6.1452, -5.0128, -6.3188, -6.319, -6.319, -6.3193, -6.5324, -6.5324, -6.5334, -6.5432, -5.1828, -6.8043, -6.8043, -6.8045, -6.8047, -6.8056, -6.8058, -6.8062, -6.8084, -7.179, -7.179, -7.179, -7.179, -7.179, -7.179, -7.179, -7.1792, -5.1302, -5.6454, -6.0566, -5.8078, -6.5327, -6.0057, -6.5466, -5.0857, -6.0799, -5.6775, -4.8859, -5.9371, -4.4062, -5.5981, -5.3527, -4.3912, -5.8584, -5.6679, -4.6967, -4.3888, -5.0815, -4.5693, -4.8658, -3.9931, -3.9978, -5.0494, -3.4901, -5.4464, -3.7628, -4.3608, -4.9588, -4.5443, -4.5102, -4.9662, -4.9509, -4.6789, -5.1316, -5.2804, -4.7934, -4.5633, -5.043, -4.9074, -4.8573, -5.0689, -5.0633, -6.186, -6.1886, -6.192, -6.3996, -6.4, -5.8519, -6.6716, -6.6716, -6.6717, -6.6718, -6.6725, -5.8607, -7.0462, -7.0462, -7.0462, -7.0462, -7.0462, -7.0462, -7.0462, -7.0462, -7.0462, -7.0462, -7.0462, -7.0463, -7.0466, -7.0466, -7.0473, -7.0473, -7.0473, -7.0485, -6.2034, -5.9546, -5.2908, -5.8938, -5.0838, -6.0967, -6.0119, -5.5734, -5.1066, -5.1654, -6.4923, -6.01, -4.8399, -5.5339, -5.2755, -6.186, -4.4248, -4.8571, -5.5861, -5.0608, -5.117, -4.4062, -5.0518, -5.6152, -5.1948, -5.2269, -4.5324, -3.6723, -4.02, -4.8149, -4.9856, -4.238, -4.5367, -4.8025, -4.6225, -4.5666, -4.9417, -5.063, -4.772, -4.7478, -4.3737, -4.706, -4.9338, -5.2179, -5.2077, -5.9316, -6.2034, -6.2034, -6.2035, -6.2036, -6.2043, -6.5781, -6.5781, -6.5781, -6.5781, -6.5782, -6.5782, -6.5784, -6.5785, -6.58, -6.5802, -6.5803, -6.5828, -5.5829, -6.2038, -6.2037, -6.4252, -6.4254, -7.1842, -7.1842, -7.1842, -7.1842, -7.1842, -7.1842, -7.1842, -5.9314, -5.9315, -7.1842, -5.9313, -4.5098, -6.5781, -6.5781, -5.268, -5.4245, -5.1225, -3.4389, -4.4379, -4.066, -4.9764, -4.0627, -4.9053, -4.9127, -4.4644, -4.7113, -5.4459, -4.0388, -5.1639, -4.359, -4.8661, -5.2085, -4.0392, -4.3686, -4.9631, -4.9527, -4.8229, -5.0598, -4.7478, -5.3341, -4.9716, -4.4008, -4.8077, -4.9505, -4.9299, -5.0787, -5.0739, -5.1798, -5.7389, -5.7393, -5.7393, -6.1142, -6.1142, -6.1144, -5.4669, -5.0774, -5.7388, -5.7393, -5.7395, -5.7397, -5.7884, -6.7197, -6.7197, -6.7197, -6.7197, -6.7197, -6.7197, -6.7197, -6.7197, -6.7197, -6.7197, -6.7197, -6.7197, -6.7197, -6.7197, -6.7197, -6.7197, -6.7197, -5.8231, -5.0771, -6.1142, -6.1142, -5.7435, -6.1133, -6.1142, -5.7562, -4.9277, -5.7387, -5.1468, -4.6941, -5.8238, -5.5189, -6.1135, -6.1152, -5.2659, -4.3542, -3.4518, -4.4918, -3.9585, -4.1111, -5.0131, -3.6799, -4.288, -4.8917, -5.1806, -5.2531, -4.6333, -5.0255, -4.9347, -4.9429, -5.1147, -4.7959, -5.1829, -5.0844, -4.913, -4.9904, -5.0403, -5.0553, -5.0213, -5.0218, -5.1829], \"loglift\": [30.0, 29.0, 28.0, 27.0, 26.0, 25.0, 24.0, 23.0, 22.0, 21.0, 20.0, 19.0, 18.0, 17.0, 16.0, 15.0, 14.0, 13.0, 12.0, 11.0, 10.0, 9.0, 8.0, 7.0, 6.0, 5.0, 4.0, 3.0, 2.0, 1.0, 0.6843, 0.6771, 0.6732, 0.6574, 0.6475, 0.6436, 0.6435, 0.6422, 0.6353, 0.6353, 0.6352, 0.624, 0.6177, 0.6114, 0.6102, 0.6078, 0.6061, 0.6036, 0.6026, 0.5986, 0.5928, 0.5928, 0.5924, 0.5875, 0.5788, 0.5779, 0.5728, 0.5659, 0.5659, 0.5657, 0.5499, 0.5568, 0.5393, 0.4881, 0.4272, 0.4777, 0.543, 0.4014, 0.4637, 0.2526, 0.3247, 0.3946, 0.2987, 0.3699, 0.2828, 0.3541, 0.1757, 0.3522, 0.2605, 0.2172, 0.2968, 0.1258, 0.1292, 0.3438, 0.1779, 0.1151, 0.0796, 0.1529, 0.0933, -0.074, -0.1165, 1.5721, 1.5529, 1.5424, 1.5416, 1.5287, 1.5225, 1.5224, 1.5224, 1.522, 1.4919, 1.4919, 1.4908, 1.481, 1.48, 1.4441, 1.444, 1.4439, 1.4437, 1.4427, 1.4425, 1.442, 1.4396, 1.3586, 1.3586, 1.3586, 1.3586, 1.3586, 1.3586, 1.3586, 1.3584, 1.3099, 1.2882, 1.293, 1.2679, 1.3051, 1.2587, 1.3037, 1.1433, 1.2307, 1.1283, 0.8754, 1.1822, 0.6525, 1.043, 0.943, 0.5982, 1.1134, 1.0289, 0.6215, 0.4785, 0.7679, 0.5233, 0.6401, 0.1138, 0.0409, 0.6601, -0.3192, 0.8929, -0.3456, 0.0807, 0.4023, 0.041, -0.1571, 0.259, 0.2032, -0.2359, 0.3526, 0.5573, -0.252, -0.673, 0.164, -0.255, -0.4914, 0.1154, -0.108, 1.6379, 1.6354, 1.6322, 1.6079, 1.6075, 1.5727, 1.561, 1.561, 1.5609, 1.5608, 1.5602, 1.5578, 1.4775, 1.4775, 1.4775, 1.4775, 1.4775, 1.4775, 1.4775, 1.4775, 1.4775, 1.4775, 1.4774, 1.4773, 1.477, 1.477, 1.4763, 1.4763, 1.4763, 1.4752, 1.4686, 1.4654, 1.4341, 1.4347, 1.3742, 1.4186, 1.3102, 1.1764, 1.0253, 1.0256, 1.34, 1.2095, 0.8942, 1.0647, 0.9835, 1.2371, 0.7294, 0.8524, 1.0563, 0.8405, 0.8391, 0.4612, 0.7742, 1.0359, 0.7964, 0.8122, 0.4229, -0.2551, -0.1297, 0.4103, 0.4747, -0.1994, 0.0486, 0.198, -0.081, -0.2134, 0.2426, 0.3542, -0.2505, -0.3819, -1.2028, -0.5991, -0.1976, 0.2663, -0.1653, 2.1426, 2.0918, 2.0918, 2.0917, 2.0915, 2.0907, 2.0011, 2.0011, 2.0011, 2.0011, 2.0011, 2.001, 2.0008, 2.0007, 1.999, 1.9988, 1.9987, 1.9957, 1.8915, 1.8574, 1.8533, 1.8392, 1.839, 1.7932, 1.7932, 1.7932, 1.7932, 1.7932, 1.7932, 1.7932, 1.7906, 1.7906, 1.7932, 1.7693, 1.6616, 1.7494, 1.7494, 1.6168, 1.5398, 1.2408, 0.4514, 0.7873, 0.5853, 1.0343, 0.4588, 0.971, 0.9133, 0.5943, 0.749, 1.1543, -0.0001, 0.8882, 0.1825, 0.5511, 0.7499, -0.622, -0.2617, 0.3857, 0.3546, 0.0444, 0.3688, -0.3048, 0.7049, -0.0163, -1.2299, -0.4546, -0.2143, -0.3447, 0.1056, -0.0734, -0.1374, 2.6568, 2.6563, 2.6563, 2.5534, 2.5533, 2.5532, 2.5157, 2.4869, 2.4152, 2.3962, 2.3959, 2.3956, 2.3455, 2.3229, 2.3229, 2.3229, 2.3229, 2.3229, 2.3229, 2.3229, 2.3229, 2.3229, 2.3229, 2.3229, 2.3229, 2.3229, 2.3229, 2.3229, 2.3229, 2.3229, 2.3066, 2.2548, 2.2468, 2.2466, 2.1809, 2.2307, 2.2299, 2.1509, 1.9388, 2.0199, 1.6029, 1.3883, 1.8989, 1.7412, 2.0132, 2.011, 1.5411, 0.8961, -0.0346, 0.7621, 0.1484, 0.2549, 1.0461, -0.509, 0.1551, 0.8649, 1.1266, 1.2157, -0.0918, 0.6661, 0.4264, 0.3753, 0.6679, -0.2272, 0.6431, 0.3205, -0.5599, -0.549, -0.3244, -0.3191, -0.4998, -1.1315, -0.2782]}, \"token.table\": {\"Topic\": [1, 2, 3, 4, 5, 4, 1, 3, 2, 1, 2, 5, 1, 3, 1, 4, 2, 2, 1, 2, 5, 5, 4, 3, 3, 1, 1, 2, 3, 5, 3, 5, 5, 1, 2, 5, 1, 2, 3, 4, 1, 2, 3, 1, 3, 4, 1, 2, 3, 4, 5, 5, 1, 3, 3, 1, 2, 3, 4, 1, 2, 3, 4, 5, 1, 2, 3, 4, 5, 2, 4, 2, 5, 2, 5, 1, 2, 3, 4, 5, 1, 2, 3, 4, 5, 4, 5, 4, 3, 1, 2, 3, 4, 5, 3, 1, 2, 3, 1, 3, 4, 5, 1, 2, 3, 4, 5, 1, 1, 2, 3, 4, 5, 2, 5, 4, 5, 2, 5, 2, 3, 2, 5, 1, 2, 3, 4, 5, 4, 1, 2, 3, 1, 2, 5, 1, 5, 4, 5, 1, 2, 3, 4, 5, 1, 2, 3, 4, 5, 1, 2, 3, 4, 5, 2, 3, 4, 2, 4, 5, 2, 4, 3, 2, 1, 2, 4, 5, 1, 5, 2, 5, 1, 1, 3, 4, 3, 1, 2, 3, 4, 5, 5, 1, 2, 3, 4, 5, 1, 4, 1, 2, 3, 4, 1, 5, 1, 1, 2, 3, 4, 3, 1, 1, 2, 3, 4, 5, 1, 2, 3, 3, 1, 2, 3, 4, 1, 1, 5, 2, 4, 1, 2, 5, 1, 2, 3, 4, 5, 1, 2, 3, 4, 5, 3, 5, 3, 4, 4, 4, 2, 4, 3, 2, 3, 4, 1, 2, 5, 3, 1, 2, 3, 4, 2, 4, 5, 1, 2, 3, 4, 5, 1, 2, 3, 4, 5, 1, 1, 2, 3, 4, 5, 1, 2, 3, 4, 5, 1, 1, 4, 5, 2, 3, 5, 2, 1, 1, 2, 3, 4, 5, 1, 5, 1, 2, 3, 5, 3, 4, 2, 3, 4, 2, 3, 4, 1, 3, 4, 5, 3, 3, 1, 2, 3, 2, 3, 4, 1, 2, 3, 5, 1, 2, 1, 2, 4, 5, 2, 5, 2, 2, 3, 4, 4, 2, 3, 3, 1, 2, 3, 4, 5, 1, 2, 3, 4, 1, 2, 3, 4, 5, 1, 5, 4, 5, 1, 2, 3, 4, 5, 1, 2, 4, 5, 4, 2, 1, 2, 3, 4, 2, 3, 4, 5, 5, 1, 2, 5, 1, 2, 3, 4, 5, 1, 3, 5, 2, 4, 4, 1, 2, 3, 4, 1, 2, 3, 4, 5, 1, 4, 1, 2, 1, 2, 3, 4, 5, 1, 2, 4, 1, 3, 5, 2, 3, 1, 2, 3, 1, 1, 2, 3, 4, 2, 2, 3, 5, 1, 3, 4, 5, 1, 3, 4, 5, 3, 5, 4, 3, 1, 2, 4, 5, 4, 1, 2, 3, 4, 5, 4, 5, 1, 4, 5, 1, 3, 5, 1, 2, 3, 4, 5, 2, 2, 3, 1, 2, 3, 4, 5, 1, 2, 3, 4, 5, 3, 4, 5, 1, 2, 3, 5, 1, 2, 3, 4, 1, 3, 4, 5, 1, 2, 3, 4, 4, 1, 2, 4, 5, 4, 5, 3, 5, 2, 4, 4, 2, 4, 2, 3, 1, 3, 5, 4, 2, 4, 1, 2, 3, 4, 5, 1, 2, 3, 4, 5, 1, 2, 3, 4, 5, 2, 3, 5, 1, 2, 3, 4, 5, 5, 4, 1, 2, 3, 4, 5, 2, 5, 2, 3, 5, 1, 2, 4, 4, 5, 5, 2, 3, 5, 5, 2, 1, 2, 3, 1, 2, 3, 4, 4, 1, 2, 3, 4, 5, 1, 2, 3, 4, 3, 4, 1, 2, 3, 4, 5, 1, 2, 3, 4, 5, 1, 2, 3, 5, 1, 2, 3, 4, 5, 2, 2, 3, 1, 2, 3, 4, 5, 1, 2, 3, 5, 2, 3, 3, 1, 2, 3, 5, 1, 2, 3, 4, 5, 1, 3, 4, 2, 1, 2, 3, 4, 5, 4, 3, 1, 2, 3, 5, 2, 1, 2, 3, 4, 2, 1, 2, 3, 1, 2, 3, 4, 5, 1, 2, 3, 4, 4], \"Freq\": [0.4425893042753787, 0.04658834781846091, 0.4192951303661482, 0.023294173909230456, 0.04658834781846091, 0.725489671767771, 0.9087726449822775, 0.9413983965004082, 0.8631889612303523, 0.3212259465321229, 0.562145406431215, 0.08030648663303072, 0.8669361704115817, 0.7581265468696867, 0.29250117437559575, 0.5850023487511915, 0.863543272075288, 0.768826918667596, 0.34031955948716847, 0.17015977974358423, 0.34031955948716847, 0.8754671479069511, 0.5967514241438833, 0.9049301443029962, 0.850048465652086, 0.8669066496928506, 0.11399361522686308, 0.11399361522686308, 0.6839616913611785, 0.11399361522686308, 0.7581015372291064, 0.8754377943131848, 0.6369243809697713, 0.8920460060144205, 0.07232805454170976, 0.024109351513903254, 0.06273530896685652, 0.06273530896685652, 0.6900883986354216, 0.12547061793371303, 0.4854008632016685, 0.03467149022869061, 0.4854008632016685, 0.8358927494612507, 0.758100241970163, 0.8014270100068293, 0.3310490453663081, 0.11034968178876936, 0.47818195441800054, 0.07356645452584624, 0.03678322726292312, 0.6369243809697713, 0.27656542034166115, 0.6914135508541529, 0.7581265427604094, 0.36519436892124735, 0.23476780859223043, 0.3521517128883457, 0.052170624131606766, 0.750266530159721, 0.13820699239784334, 0.0502570881446703, 0.028718336082668744, 0.03230812809300234, 0.7281517198435026, 0.166868102464136, 0.04550948249021891, 0.04550948249021891, 0.030339654993479275, 0.9201328684680288, 0.8012574378605204, 0.316711514057664, 0.633423028115328, 0.2567073764867629, 0.5134147529735258, 0.6971975704989531, 0.031690798659043326, 0.09507239597712998, 0.14260859396569497, 0.04753619798856499, 0.3556473372892337, 0.3675022485322082, 0.09483928994379566, 0.17782366864461685, 0.011854911242974457, 0.6231118021548084, 0.3115559010774042, 0.5967514241438833, 0.7581661203637174, 0.4068858059208184, 0.45475472426444413, 0.0478689183436257, 0.0478689183436257, 0.02393445917181285, 0.7580620792352101, 0.11269882434333602, 0.6761929460600161, 0.11269882434333602, 0.40862932010047787, 0.20431466005023893, 0.06810488668341298, 0.27241954673365193, 0.4633766942634489, 0.2231072972379569, 0.17162099787535146, 0.13729679830028116, 0.017162099787535145, 0.9090931236858184, 0.6891988054362997, 0.10050815912612704, 0.043074925339768734, 0.028716616893179156, 0.1292247760193062, 0.8633818009006337, 0.6369243809697713, 0.22064776732195931, 0.661943301965878, 0.2556308161847091, 0.5112616323694182, 0.25143594868925023, 0.7543078460677507, 0.7688269238825922, 0.6369243809697713, 0.5464090789177669, 0.1993654747402663, 0.17721375532468117, 0.06645515824675544, 0.007383906471861715, 0.9047767278650234, 0.9710990547000067, 0.7688269267657231, 0.9414366788217071, 0.9349975237452448, 0.020326033124896625, 0.04065206624979325, 0.9180213808724783, 0.6369243733012637, 0.3221549330597386, 0.6443098661194772, 0.5300716725403897, 0.1484200683113091, 0.15548769061184764, 0.120149579109155, 0.049473356103769704, 0.6581978018918249, 0.11859419853906754, 0.11859419853906754, 0.04150796948867364, 0.07115651912344052, 0.24790774464546017, 0.24790774464546017, 0.20658978720455015, 0.08263591488182005, 0.1652718297636401, 0.6956637253560861, 0.07729596948400957, 0.2318879084520287, 0.9202274213868487, 0.5967514241438833, 0.6369243809697713, 0.920373714301167, 0.05752335714382294, 0.9049343971618576, 0.8634355815028026, 0.6095390700654865, 0.28872903318891463, 0.01604050184382859, 0.08020250921914296, 0.9281658873534561, 0.6369243809697713, 0.3167399096235856, 0.6334798192471712, 0.979232193410177, 0.4430538131119478, 0.2215269065559739, 0.3322903598339609, 0.7581265535548826, 0.44051464138811997, 0.055064330173514996, 0.385450311214605, 0.055064330173514996, 0.08259649526027249, 0.6670225376341598, 0.1896021686390204, 0.2844032529585306, 0.3792043372780408, 0.0948010843195102, 0.06320072287967346, 0.29250407755567154, 0.5850081551113431, 0.29135023634073964, 0.17481014180444376, 0.4661603781451834, 0.058270047268147926, 0.9283973465545623, 0.6369243809697713, 0.9180330629494478, 0.21641662920276603, 0.10820831460138301, 0.14427775280184402, 0.504972134806454, 0.7581228873555392, 0.9654559529789061, 0.09090740460507381, 0.36362961842029523, 0.38635646957156367, 0.11363425575634226, 0.022726851151268452, 0.3466267444758774, 0.1733133722379387, 0.4621689926345031, 0.7581265468696867, 0.37894650245571027, 0.2040481167069209, 0.2040481167069209, 0.2040481167069209, 0.8938226996491375, 0.8403584237225691, 0.10504480296532114, 0.7732464094193282, 0.19331160235483205, 0.2046304782516666, 0.2046304782516666, 0.4092609565033332, 0.620084120797515, 0.10055418175094837, 0.11731321204277309, 0.08379515145912364, 0.06703612116729891, 0.19686339378764753, 0.15749071503011802, 0.47247214509035407, 0.07874535751505901, 0.11811803627258852, 0.2570716040165922, 0.5141432080331844, 0.7581265403004717, 0.5967514241438833, 0.8009016996970426, 0.5967514241438833, 0.3401119297916065, 0.5101678946874098, 0.7581163185641718, 0.29444886695138506, 0.2208366502135388, 0.5152855171649239, 0.8669066496928506, 0.8635321323120297, 0.6369243809697713, 0.7581265468696867, 0.5764002017377768, 0.31885968606770637, 0.024527668159054335, 0.08584683855669017, 0.9579541005316695, 0.3220934512390784, 0.6441869024781568, 0.6291535612203614, 0.13317849106124438, 0.1308823101808781, 0.05281216024842449, 0.05051597936805821, 0.38098947964616986, 0.272135342604407, 0.21770827408352564, 0.09071178086813568, 0.03628471234725427, 0.8359151392450183, 0.5368250477360439, 0.14539011709517857, 0.20130939290101646, 0.08947084128934066, 0.022367710322335164, 0.6389705731991073, 0.1104393583307099, 0.06310820476040567, 0.17354756309111558, 0.015777051190101418, 0.8890237341902011, 0.20817062073015888, 0.20817062073015888, 0.41634124146031776, 0.6455793874941367, 0.1075965645823561, 0.2151931291647122, 0.7688269137318029, 0.9215890672836844, 0.28420800045103195, 0.3358821823512196, 0.15502254570056287, 0.15502254570056287, 0.07751127285028143, 0.8888935485969032, 0.6670723910562437, 0.8358927473996961, 0.11511419000524209, 0.34534257001572627, 0.46045676002096836, 0.6883739522482138, 0.22945798408273793, 0.1898744176122511, 0.5696232528367533, 0.8014014699872447, 0.8878159503549953, 0.0522244676679409, 0.0522244676679409, 0.6770542108506178, 0.1289627068286891, 0.032240676707172275, 0.1612033835358614, 0.7581265468696867, 0.7581265468696867, 0.36600785064782976, 0.5490117759717447, 0.06100130844130496, 0.7688269198048179, 0.7580620792355459, 0.801425640848873, 0.8501982588756809, 0.014410139980943745, 0.014410139980943745, 0.11528111984754996, 0.8515543806297314, 0.0946171534033035, 0.8197606085615289, 0.07452369168741171, 0.07452369168741171, 0.6369243809697713, 0.8254092624411251, 0.11791560892016073, 0.8208016526702201, 0.12553090253239693, 0.7531854151943815, 0.8014428235719316, 0.9049066789230639, 0.7688269227291878, 0.7581265535548826, 0.9416577159066161, 0.5016209147474813, 0.19760823914294717, 0.13680570402204034, 0.13680570402204034, 0.03040126756045341, 0.21850964119028476, 0.17480771295222783, 0.26221156942834173, 0.34961542590445566, 0.6778463406783996, 0.20463285756329042, 0.057552991189675426, 0.031973883994264124, 0.031973883994264124, 0.9053883452121614, 0.6369243809697713, 0.5094988227502792, 0.5094988227502792, 0.3522629602413097, 0.3522629602413097, 0.14832124641739355, 0.11124093481304517, 0.018540155802174194, 0.24506251239753368, 0.49012502479506737, 0.16337500826502246, 0.08168750413251123, 0.8014428214595537, 0.9579071551118946, 0.280046952591961, 0.2520422573327649, 0.2520422573327649, 0.21003521444397075, 0.5192231148867931, 0.28845728604821835, 0.17307437162893102, 0.6369243733012637, 0.6369243733012637, 0.9424060748517629, 0.016828679908067194, 0.04207169977016799, 0.5583366424866195, 0.21052037339659424, 0.09153059712895402, 0.07322447770316322, 0.06407141799026782, 0.5525688627755578, 0.37807343242538166, 0.02908257172502936, 0.23870795525773317, 0.7161238657731995, 0.9048938872539233, 0.24166260135623094, 0.21481120120553862, 0.2685140015069233, 0.2685140015069233, 0.2843920549169265, 0.25279293770393463, 0.18959470327795097, 0.18959470327795097, 0.06319823442598366, 0.8882545566301044, 0.04934747536833914, 0.8892989443084908, 0.7688130020929952, 0.19423285176415672, 0.14567463882311754, 0.38846570352831344, 0.09711642588207836, 0.19423285176415672, 0.18874737126055371, 0.7078026422270763, 0.09437368563027686, 0.848743095450912, 0.09985212887657788, 0.04992606443828894, 0.8635432744267567, 0.7581235135773066, 0.2791854442729418, 0.6514327033035308, 0.09306181475764726, 0.9180529266092724, 0.7028382450639633, 0.15462441391407192, 0.14056764901279264, 0.9048927896180528, 0.8609014092593607, 0.1445595317450988, 0.4336785952352964, 0.361398829362747, 0.09608695329931705, 0.6726086730952193, 0.09608695329931705, 0.09608695329931705, 0.45018099620714136, 0.2572462835469379, 0.06431157088673448, 0.2572462835469379, 0.257107610059035, 0.51421522011807, 0.8012248759280212, 0.8500664413689915, 0.797531551207704, 0.15003068785095422, 0.03948175996077743, 0.01579270398431097, 0.5967514241438833, 0.6088560790262135, 0.16392279050705746, 0.1346508636307972, 0.06439823912777258, 0.029271926876260262, 0.26192298435076244, 0.5238459687015249, 0.1763915637267001, 0.3527831274534002, 0.3527831274534002, 0.8723173134004233, 0.058154487560028216, 0.058154487560028216, 0.25535123626243683, 0.025535123626243685, 0.3574917307674116, 0.25535123626243683, 0.10214049450497474, 0.9579541005316696, 0.7636428448025215, 0.19091071120063038, 0.2620510391865738, 0.2858738609308078, 0.23822821744233982, 0.07146846523270195, 0.11911410872116991, 0.5378958307142573, 0.12224905243505847, 0.19559848389609355, 0.024449810487011694, 0.09779924194804678, 0.757773101580021, 0.1262955169300035, 0.6369243733012637, 0.32142624311167567, 0.21428416207445045, 0.10714208103722522, 0.32142624311167567, 0.2881169815105411, 0.22409098561930976, 0.22409098561930976, 0.22409098561930976, 0.5939665404975225, 0.13199256455500502, 0.032998141138751255, 0.1979888468325075, 0.18430003383327237, 0.21501670613881776, 0.3378833953609994, 0.2764500507499086, 0.5967514241438833, 0.9296282573379684, 0.007262720760452878, 0.014525441520905756, 0.04357632456271727, 0.6230842899018214, 0.3115421449509107, 0.8500556259058012, 0.6369243809697713, 0.2654904784613924, 0.663726196153481, 0.5967514241438833, 0.3400988049735266, 0.51014820746029, 0.7688269137318029, 0.7580620792349033, 0.30862439904021344, 0.6172487980804269, 0.10287479968007116, 0.801434936699602, 0.7029924872839385, 0.23433082909464617, 0.5557241765368083, 0.19664086246687063, 0.13679364345521436, 0.09832043123343531, 0.008549602715950897, 0.5819285646764158, 0.09698809411273597, 0.13162669915299882, 0.15240986217715652, 0.034638605040262845, 0.6531306162534161, 0.08164132703167701, 0.13995656062573203, 0.08164132703167701, 0.03498914015643301, 0.38707008006714955, 0.49766153151490655, 0.110591451447757, 0.07970356020565839, 0.23911068061697516, 0.07970356020565839, 0.4782213612339503, 0.15940712041131677, 0.667022537634161, 0.8014428235719316, 0.28755656217122866, 0.4182640904308781, 0.10456602260771952, 0.15684903391157928, 0.02614150565192988, 0.2904573215819334, 0.5809146431638668, 0.8635143537049741, 0.25707833425465326, 0.5141566685093065, 0.894076386422401, 0.03576305545689604, 0.053644583185344055, 0.5097170600777662, 0.5097170600777662, 0.8755241156438378, 0.6122029491675041, 0.34011274953750226, 0.06802254990750045, 0.6369243733012637, 0.9201632193135129, 0.3216000351555129, 0.12864001406220515, 0.5788800632799233, 0.44283448238878204, 0.07085351718220513, 0.26570068943326924, 0.21256055154661538, 0.8012058326790261, 0.5822712519441562, 0.09581678829460798, 0.1474104435301661, 0.15478096570667443, 0.018426305441270763, 0.39024067401765905, 0.18663684409540215, 0.23753780157596638, 0.1696698582685474, 0.23772557165709202, 0.7131767149712761, 0.4383016462089425, 0.17104454486202633, 0.25656681729303954, 0.09621255648488981, 0.04276113621550658, 0.4609975668881887, 0.3534314679476114, 0.09219951337763775, 0.015366585562939624, 0.07683292781469812, 0.7812843405378505, 0.0669672291889586, 0.02232240972965287, 0.11161204864826435, 0.03820665565933553, 0.6113064905493685, 0.26744658961534873, 0.03820665565933553, 0.03820665565933553, 0.8206791630794398, 0.16175351997418955, 0.8087675998709477, 0.7298911851711858, 0.008586955119661009, 0.13739128191457614, 0.07728259607694908, 0.042934775598305046, 0.08909177453259562, 0.712734196260765, 0.08909177453259562, 0.08909177453259562, 0.3783406896950029, 0.6305678161583381, 0.8500852163995919, 0.5121115911200356, 0.030124211242355033, 0.3614905349082604, 0.06024842248471007, 0.4301294060054442, 0.2150647030027221, 0.2150647030027221, 0.10753235150136105, 0.026883087875340262, 0.16643648379689482, 0.16643648379689482, 0.49930945139068444, 0.9202274127155577, 0.6469176235922565, 0.14731787467942473, 0.06405124986061944, 0.0704563748466814, 0.06405124986061944, 0.8014428217968389, 0.8500556259058016, 0.29866195335644985, 0.4693259267029926, 0.21332996668317847, 0.6369243809697713, 0.9579547632262763, 0.32309020500979496, 0.3035089804637468, 0.26434653137165043, 0.09790612273024091, 0.8634184579207095, 0.7765514350204078, 0.022187183857725938, 0.19968465471953342, 0.4535239331466996, 0.34290833969628504, 0.12167715279545599, 0.05530779672520727, 0.022123118690082908, 0.7149418203499698, 0.21998209856922146, 0.027497762321152683, 0.041246643481729024, 0.9049066791959948], \"Term\": [\"administration\", \"administration\", \"administration\", \"administration\", \"administration\", \"adoption\", \"adult\", \"agreement\", \"airplane\", \"answer\", \"answer\", \"answer\", \"antibody\", \"application\", \"appointment\", \"appointment\", \"attack\", \"audience\", \"author\", \"author\", \"author\", \"authorities\", \"awareness\", \"bag\", \"bail\", \"ballot\", \"bank\", \"bank\", \"bank\", \"bank\", \"becker\", \"behavior\", \"bleach\", \"board\", \"board\", \"board\", \"body\", \"body\", \"body\", \"body\", \"briefing\", \"briefing\", \"briefing\", \"budget\", \"bukele\", \"bulls\", \"business\", \"business\", \"business\", \"business\", \"business\", \"camel\", \"camera\", \"camera\", \"cancer\", \"care\", \"care\", \"care\", \"care\", \"case\", \"case\", \"case\", \"case\", \"case\", \"centers\", \"centers\", \"centers\", \"centers\", \"centers\", \"chain\", \"charge\", \"circle\", \"circle\", \"circumstance\", \"circumstance\", \"citizen\", \"citizen\", \"citizen\", \"citizen\", \"citizen\", \"city\", \"city\", \"city\", \"city\", \"city\", \"cleaning\", \"cleaning\", \"clothing\", \"collaboration\", \"community\", \"community\", \"community\", \"community\", \"community\", \"competition\", \"complication\", \"complication\", \"complication\", \"conduct\", \"conduct\", \"conduct\", \"conduct\", \"conference\", \"conference\", \"conference\", \"conference\", \"conference\", \"confirmation\", \"contact\", \"contact\", \"contact\", \"contact\", \"contact\", \"containment\", \"convict\", \"coronaviruse\", \"coronaviruse\", \"correspondent\", \"correspondent\", \"cost\", \"cost\", \"counseling\", \"countering\", \"country\", \"country\", \"country\", \"country\", \"country\", \"couple\", \"crew\", \"crime\", \"criticism\", \"cruise\", \"cruise\", \"cruise\", \"cruises\", \"damage\", \"danger\", \"danger\", \"day\", \"day\", \"day\", \"day\", \"day\", \"death\", \"death\", \"death\", \"death\", \"death\", \"decision\", \"decision\", \"decision\", \"decision\", \"decision\", \"demand\", \"demand\", \"demand\", \"deposit\", \"designer\", \"destruction\", \"detainee\", \"detainee\", \"dewine\", \"direction\", \"director\", \"director\", \"director\", \"director\", \"disembarkation\", \"disinfection\", \"disruption\", \"disruption\", \"dock\", \"doctor\", \"doctor\", \"doctor\", \"dorries\", \"drug\", \"drug\", \"drug\", \"drug\", \"drug\", \"emergencies\", \"end\", \"end\", \"end\", \"end\", \"end\", \"entertainment\", \"entertainment\", \"equipment\", \"equipment\", \"equipment\", \"equipment\", \"estimate\", \"ethanol\", \"evacuation\", \"event\", \"event\", \"event\", \"event\", \"exception\", \"exposure\", \"facility\", \"facility\", \"facility\", \"facility\", \"facility\", \"fact\", \"fact\", \"fact\", \"failure\", \"family\", \"family\", \"family\", \"family\", \"fatality\", \"figure\", \"figure\", \"file\", \"file\", \"finish\", \"finish\", \"finish\", \"flight\", \"flight\", \"flight\", \"flight\", \"flight\", \"food\", \"food\", \"food\", \"food\", \"food\", \"football\", \"football\", \"format\", \"fraction\", \"frasure\", \"fusion\", \"games\", \"games\", \"gas\", \"gathering\", \"gathering\", \"gathering\", \"gaynor\", \"gender\", \"glass\", \"glitch\", \"government\", \"government\", \"government\", \"government\", \"graduate\", \"grief\", \"grief\", \"health\", \"health\", \"health\", \"health\", \"health\", \"help\", \"help\", \"help\", \"help\", \"help\", \"holiday\", \"home\", \"home\", \"home\", \"home\", \"home\", \"hospital\", \"hospital\", \"hospital\", \"hospital\", \"hospital\", \"hospitalization\", \"household\", \"household\", \"household\", \"housing\", \"housing\", \"housing\", \"humidity\", \"immunization\", \"increase\", \"increase\", \"increase\", \"increase\", \"increase\", \"incubation\", \"index\", \"indication\", \"inspection\", \"inspection\", \"inspection\", \"insurance\", \"insurance\", \"item\", \"item\", \"ivy\", \"jail\", \"jail\", \"jail\", \"lab\", \"lab\", \"lab\", \"lab\", \"lacey\", \"lending\", \"letter\", \"letter\", \"letter\", \"lobby\", \"lorimer\", \"lyons\", \"mainland\", \"mainland\", \"mainland\", \"mainland\", \"medicine\", \"medicine\", \"meeting\", \"meeting\", \"meeting\", \"metal\", \"military\", \"military\", \"minority\", \"moment\", \"moment\", \"monument\", \"morse\", \"motion\", \"music\", \"neighbor\", \"news\", \"news\", \"news\", \"news\", \"news\", \"night\", \"night\", \"night\", \"night\", \"number\", \"number\", \"number\", \"number\", \"number\", \"nursing\", \"object\", \"observation\", \"observation\", \"office\", \"office\", \"office\", \"office\", \"office\", \"officer\", \"officer\", \"officer\", \"officer\", \"operations\", \"opportunity\", \"order\", \"order\", \"order\", \"order\", \"package\", \"package\", \"package\", \"packaging\", \"paper\", \"passenger\", \"passenger\", \"passenger\", \"people\", \"people\", \"people\", \"people\", \"people\", \"period\", \"period\", \"period\", \"picture\", \"picture\", \"pistons\", \"place\", \"place\", \"place\", \"place\", \"plan\", \"plan\", \"plan\", \"plan\", \"plan\", \"plane\", \"plane\", \"plant\", \"plumbing\", \"point\", \"point\", \"point\", \"point\", \"point\", \"police\", \"police\", \"police\", \"port\", \"port\", \"port\", \"positivity\", \"pound\", \"practice\", \"practice\", \"practice\", \"precaution\", \"press\", \"press\", \"press\", \"price\", \"prisoner\", \"product\", \"product\", \"product\", \"program\", \"program\", \"program\", \"program\", \"protection\", \"protection\", \"protection\", \"protection\", \"psychologist\", \"psychologist\", \"rail\", \"relationship\", \"release\", \"release\", \"release\", \"release\", \"relocation\", \"report\", \"report\", \"report\", \"report\", \"report\", \"requirement\", \"requirement\", \"research\", \"research\", \"research\", \"researcher\", \"researcher\", \"researcher\", \"resident\", \"resident\", \"resident\", \"resident\", \"resident\", \"resignation\", \"respirator\", \"respirator\", \"response\", \"response\", \"response\", \"response\", \"response\", \"risk\", \"risk\", \"risk\", \"risk\", \"risk\", \"rule\", \"rule\", \"sampling\", \"scale\", \"scale\", \"scale\", \"scale\", \"schedule\", \"schedule\", \"schedule\", \"schedule\", \"screening\", \"screening\", \"screening\", \"screening\", \"service\", \"service\", \"service\", \"service\", \"sharing\", \"ship\", \"ship\", \"ship\", \"ship\", \"shoreline\", \"shoreline\", \"smalls\", \"sodium\", \"soldier\", \"soldier\", \"soldiers\", \"space\", \"space\", \"speech\", \"sports\", \"spring\", \"spring\", \"spring\", \"stadium\", \"stage\", \"stage\", \"state\", \"state\", \"state\", \"state\", \"state\", \"statement\", \"statement\", \"statement\", \"statement\", \"statement\", \"states\", \"states\", \"states\", \"states\", \"states\", \"step\", \"step\", \"step\", \"store\", \"store\", \"store\", \"store\", \"store\", \"strategy\", \"studio\", \"supply\", \"supply\", \"supply\", \"supply\", \"supply\", \"surface\", \"surface\", \"surgeon\", \"surveillance\", \"surveillance\", \"symptom\", \"symptom\", \"symptom\", \"syndrome\", \"syndrome\", \"tailor\", \"talk\", \"talk\", \"talk\", \"tap\", \"target\", \"task\", \"task\", \"task\", \"team\", \"team\", \"team\", \"team\", \"terminal\", \"test\", \"test\", \"test\", \"test\", \"test\", \"testing\", \"testing\", \"testing\", \"testing\", \"ticket\", \"ticket\", \"time\", \"time\", \"time\", \"time\", \"time\", \"today\", \"today\", \"today\", \"today\", \"today\", \"toll\", \"toll\", \"toll\", \"toll\", \"town\", \"town\", \"town\", \"town\", \"town\", \"transport\", \"transportation\", \"transportation\", \"travel\", \"travel\", \"travel\", \"travel\", \"travel\", \"trial\", \"trial\", \"trial\", \"trial\", \"truck\", \"truck\", \"unemployment\", \"university\", \"university\", \"university\", \"university\", \"use\", \"use\", \"use\", \"use\", \"use\", \"veteran\", \"veteran\", \"veteran\", \"violence\", \"virus\", \"virus\", \"virus\", \"virus\", \"virus\", \"voucher\", \"walkout\", \"way\", \"way\", \"way\", \"weapons\", \"weather\", \"week\", \"week\", \"week\", \"week\", \"window\", \"woman\", \"woman\", \"woman\", \"work\", \"work\", \"work\", \"work\", \"work\", \"world\", \"world\", \"world\", \"world\", \"wrestlemania\"]}, \"R\": 30, \"lambda.step\": 0.01, \"plot.opts\": {\"xlab\": \"PC1\", \"ylab\": \"PC2\"}, \"topic.order\": [5, 3, 1, 2, 4]};\n",
       "\n",
       "function LDAvis_load_lib(url, callback){\n",
       "  var s = document.createElement('script');\n",
       "  s.src = url;\n",
       "  s.async = true;\n",
       "  s.onreadystatechange = s.onload = callback;\n",
       "  s.onerror = function(){console.warn(\"failed to load library \" + url);};\n",
       "  document.getElementsByTagName(\"head\")[0].appendChild(s);\n",
       "}\n",
       "\n",
       "if(typeof(LDAvis) !== \"undefined\"){\n",
       "   // already loaded: just create the visualization\n",
       "   !function(LDAvis){\n",
       "       new LDAvis(\"#\" + \"ldavis_el405261123305852963314589817\", ldavis_el405261123305852963314589817_data);\n",
       "   }(LDAvis);\n",
       "}else if(typeof define === \"function\" && define.amd){\n",
       "   // require.js is available: use it to load d3/LDAvis\n",
       "   require.config({paths: {d3: \"https://cdnjs.cloudflare.com/ajax/libs/d3/3.5.5/d3.min\"}});\n",
       "   require([\"d3\"], function(d3){\n",
       "      window.d3 = d3;\n",
       "      LDAvis_load_lib(\"https://cdn.rawgit.com/bmabey/pyLDAvis/files/ldavis.v1.0.0.js\", function(){\n",
       "        new LDAvis(\"#\" + \"ldavis_el405261123305852963314589817\", ldavis_el405261123305852963314589817_data);\n",
       "      });\n",
       "    });\n",
       "}else{\n",
       "    // require.js not available: dynamically load d3 & LDAvis\n",
       "    LDAvis_load_lib(\"https://cdnjs.cloudflare.com/ajax/libs/d3/3.5.5/d3.min.js\", function(){\n",
       "         LDAvis_load_lib(\"https://cdn.rawgit.com/bmabey/pyLDAvis/files/ldavis.v1.0.0.js\", function(){\n",
       "                 new LDAvis(\"#\" + \"ldavis_el405261123305852963314589817\", ldavis_el405261123305852963314589817_data);\n",
       "            })\n",
       "         });\n",
       "}\n",
       "</script>"
      ],
      "text/plain": [
       "<IPython.core.display.HTML object>"
      ]
     },
     "execution_count": 30,
     "metadata": {},
     "output_type": "execute_result"
    }
   ],
   "source": [
    "# View the finished product\n",
    "from IPython.display import HTML\n",
    "\n",
    "HTML(filename=\"CoronaVirusArticleTopics_5.html\")"
   ]
  },
  {
   "cell_type": "code",
   "execution_count": null,
   "metadata": {},
   "outputs": [],
   "source": []
  }
 ],
 "metadata": {
  "kernelspec": {
   "display_name": "CoronavirusTopicModeling",
   "language": "python",
   "name": "coronavirustopicmodeling"
  },
  "language_info": {
   "codemirror_mode": {
    "name": "ipython",
    "version": 3
   },
   "file_extension": ".py",
   "mimetype": "text/x-python",
   "name": "python",
   "nbconvert_exporter": "python",
   "pygments_lexer": "ipython3",
   "version": "3.7.7"
  }
 },
 "nbformat": 4,
 "nbformat_minor": 4
}
