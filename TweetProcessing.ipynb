{
 "cells": [
  {
   "cell_type": "markdown",
   "metadata": {},
   "source": [
    "#### Note: I excluded the script that gathered tweets from this because it took about 3 hours to get tweets and then I ended up having to wrangle it manually"
   ]
  },
  {
   "cell_type": "code",
   "execution_count": 8,
   "metadata": {},
   "outputs": [],
   "source": [
    "import spacy\n",
    "from spacy.lang.en.stop_words import STOP_WORDS\n",
    "from collections import Counter\n",
    "import pandas as pd\n",
    "from string import punctuation\n",
    "nlp = spacy.load('en')"
   ]
  },
  {
   "cell_type": "code",
   "execution_count": 9,
   "metadata": {},
   "outputs": [],
   "source": [
    "wordlist = []"
   ]
  },
  {
   "cell_type": "code",
   "execution_count": 10,
   "metadata": {},
   "outputs": [],
   "source": [
    "data = pd.read_csv('gatheredTweets.csv', sep=',', encoding='utf-8')"
   ]
  },
  {
   "cell_type": "code",
   "execution_count": 11,
   "metadata": {},
   "outputs": [
    {
     "data": {
      "text/html": [
       "<div>\n",
       "<style scoped>\n",
       "    .dataframe tbody tr th:only-of-type {\n",
       "        vertical-align: middle;\n",
       "    }\n",
       "\n",
       "    .dataframe tbody tr th {\n",
       "        vertical-align: top;\n",
       "    }\n",
       "\n",
       "    .dataframe thead th {\n",
       "        text-align: right;\n",
       "    }\n",
       "</style>\n",
       "<table border=\"1\" class=\"dataframe\">\n",
       "  <thead>\n",
       "    <tr style=\"text-align: right;\">\n",
       "      <th></th>\n",
       "      <th>PublishDate</th>\n",
       "      <th>Tweets</th>\n",
       "    </tr>\n",
       "  </thead>\n",
       "  <tbody>\n",
       "    <tr>\n",
       "      <th>0</th>\n",
       "      <td>4/20/20 21:04</td>\n",
       "      <td>Just across Dutch border, study following 1,00...</td>\n",
       "    </tr>\n",
       "    <tr>\n",
       "      <th>1</th>\n",
       "      <td>4/20/20 21:00</td>\n",
       "      <td>North Carolina's top health official said that...</td>\n",
       "    </tr>\n",
       "    <tr>\n",
       "      <th>2</th>\n",
       "      <td>4/20/20 21:00</td>\n",
       "      <td>Millions of Americans &amp; their children were le...</td>\n",
       "    </tr>\n",
       "    <tr>\n",
       "      <th>3</th>\n",
       "      <td>4/20/20 21:00</td>\n",
       "      <td>All the experts say we need to greatly expand ...</td>\n",
       "    </tr>\n",
       "    <tr>\n",
       "      <th>4</th>\n",
       "      <td>4/20/20 21:00</td>\n",
       "      <td>WATCH: The 5 teenage girls on this robotics te...</td>\n",
       "    </tr>\n",
       "  </tbody>\n",
       "</table>\n",
       "</div>"
      ],
      "text/plain": [
       "     PublishDate                                             Tweets\n",
       "0  4/20/20 21:04  Just across Dutch border, study following 1,00...\n",
       "1  4/20/20 21:00  North Carolina's top health official said that...\n",
       "2  4/20/20 21:00  Millions of Americans & their children were le...\n",
       "3  4/20/20 21:00  All the experts say we need to greatly expand ...\n",
       "4  4/20/20 21:00  WATCH: The 5 teenage girls on this robotics te..."
      ]
     },
     "execution_count": 11,
     "metadata": {},
     "output_type": "execute_result"
    }
   ],
   "source": [
    "data.head()"
   ]
  },
  {
   "cell_type": "code",
   "execution_count": 12,
   "metadata": {},
   "outputs": [],
   "source": [
    "# Set the columnnames for the final dataframe\n",
    "finalcolumnnames = ['PublishDate', 'Tweets']\n",
    "df = pd.DataFrame(data)\n",
    "finaldf = pd.DataFrame(columns=finalcolumnnames)\n",
    "\n",
    "finalworddf = pd.DataFrame(columns=[\"Words\", \"PublishDate\"])"
   ]
  },
  {
   "cell_type": "code",
   "execution_count": 14,
   "metadata": {},
   "outputs": [],
   "source": [
    "# This is the same framework for cleaning that I created for the articles\n",
    "#for i in range(len(100))\n",
    "for i in range(len(data)):\n",
    "    tweetVar = df.loc[i, \"Tweets\"]\n",
    "    publishdatevar = df.loc[i, \"PublishDate\"]\n",
    "\n",
    "    dataAfterLemmaFilter = []\n",
    "    dataAfterPronounFilter = []\n",
    "    dataAfterStopwords = []\n",
    "    dataAfterPunctuations = []\n",
    "    dataAfterNounFilter = []\n",
    "\n",
    "    doc = nlp(str(tweetVar))\n",
    "\n",
    "    for token in doc:\n",
    "        dataAfterLemmaFilter.append(token.lemma_)\n",
    "\n",
    "    for token in dataAfterLemmaFilter:\n",
    "        if token != \"-PRON-\":\n",
    "            dataAfterPronounFilter.append(token.lower().strip())\n",
    "\n",
    "    stopwords = list(STOP_WORDS)\n",
    "\n",
    "    for token in dataAfterPronounFilter:\n",
    "        if token != stopwords:\n",
    "            dataAfterStopwords.append(token)\n",
    "\n",
    "    custom_remove_list = ['our', 'live', 'coverage', 'of', 'the', 'has', 'moved', 'here', '\\\\n']\n",
    "\n",
    "    dataAfterCustomStopWords = []\n",
    "    for word in dataAfterStopwords:\n",
    "        if word not in custom_remove_list:\n",
    "            dataAfterCustomStopWords.append(word)\n",
    "\n",
    "    dataAfterRemoveCoverage = []\n",
    "    for c in dataAfterCustomStopWords:\n",
    "        if c != 'coverage':\n",
    "            dataAfterRemoveCoverage.append(c)\n",
    "\n",
    "    punctuations = punctuation\n",
    "\n",
    "    for token in dataAfterRemoveCoverage:\n",
    "        if token not in punctuations:\n",
    "            dataAfterPunctuations.append(token)\n",
    "\n",
    "    for value in dataAfterPunctuations:\n",
    "        td = nlp(value)\n",
    "        for t in td:\n",
    "            if t.pos_ == 'NOUN':\n",
    "                dataAfterNounFilter.append(t)\n",
    "\n",
    "    dataAfterNounFilterStringFormatting = []\n",
    "\n",
    "    for nlpObject in dataAfterNounFilter:\n",
    "        nlpObjectIntoString=str(nlpObject)\n",
    "        dataAfterNounFilterStringFormatting.append(nlpObjectIntoString)\n",
    "\n",
    "    cleaned_data_list = dataAfterNounFilterStringFormatting\n",
    "\n",
    "    df2 = pd.DataFrame({\"Tweets\": [tweetVar],\n",
    "                        \"PublishDate\": [publishdatevar],\n",
    "                        \"CleanedTweet\": [cleaned_data_list]})\n",
    "\n",
    "    finaldf = finaldf.append(df2, ignore_index=True)"
   ]
  },
  {
   "cell_type": "code",
   "execution_count": 15,
   "metadata": {},
   "outputs": [
    {
     "data": {
      "text/html": [
       "<div>\n",
       "<style scoped>\n",
       "    .dataframe tbody tr th:only-of-type {\n",
       "        vertical-align: middle;\n",
       "    }\n",
       "\n",
       "    .dataframe tbody tr th {\n",
       "        vertical-align: top;\n",
       "    }\n",
       "\n",
       "    .dataframe thead th {\n",
       "        text-align: right;\n",
       "    }\n",
       "</style>\n",
       "<table border=\"1\" class=\"dataframe\">\n",
       "  <thead>\n",
       "    <tr style=\"text-align: right;\">\n",
       "      <th></th>\n",
       "      <th>PublishDate</th>\n",
       "      <th>Tweets</th>\n",
       "      <th>CleanedTweet</th>\n",
       "    </tr>\n",
       "  </thead>\n",
       "  <tbody>\n",
       "    <tr>\n",
       "      <th>0</th>\n",
       "      <td>4/20/20 21:04</td>\n",
       "      <td>Just across Dutch border, study following 1,00...</td>\n",
       "      <td>[border, study, people, plan, deal, virus]</td>\n",
       "    </tr>\n",
       "    <tr>\n",
       "      <th>1</th>\n",
       "      <td>4/20/20 21:00</td>\n",
       "      <td>North Carolina's top health official said that...</td>\n",
       "      <td>[health, result, death, state, month, flu]</td>\n",
       "    </tr>\n",
       "    <tr>\n",
       "      <th>2</th>\n",
       "      <td>4/20/20 21:00</td>\n",
       "      <td>Millions of Americans &amp; their children were le...</td>\n",
       "      <td>[child, package, immigration, technicality, us...</td>\n",
       "    </tr>\n",
       "    <tr>\n",
       "      <th>3</th>\n",
       "      <td>4/20/20 21:00</td>\n",
       "      <td>All the experts say we need to greatly expand ...</td>\n",
       "      <td>[expert, testing, capacity, promise, test, end...</td>\n",
       "    </tr>\n",
       "    <tr>\n",
       "      <th>4</th>\n",
       "      <td>4/20/20 21:00</td>\n",
       "      <td>WATCH: The 5 teenage girls on this robotics te...</td>\n",
       "      <td>[girl, team, use, part, ventilator, device, life]</td>\n",
       "    </tr>\n",
       "  </tbody>\n",
       "</table>\n",
       "</div>"
      ],
      "text/plain": [
       "     PublishDate                                             Tweets  \\\n",
       "0  4/20/20 21:04  Just across Dutch border, study following 1,00...   \n",
       "1  4/20/20 21:00  North Carolina's top health official said that...   \n",
       "2  4/20/20 21:00  Millions of Americans & their children were le...   \n",
       "3  4/20/20 21:00  All the experts say we need to greatly expand ...   \n",
       "4  4/20/20 21:00  WATCH: The 5 teenage girls on this robotics te...   \n",
       "\n",
       "                                        CleanedTweet  \n",
       "0         [border, study, people, plan, deal, virus]  \n",
       "1         [health, result, death, state, month, flu]  \n",
       "2  [child, package, immigration, technicality, us...  \n",
       "3  [expert, testing, capacity, promise, test, end...  \n",
       "4  [girl, team, use, part, ventilator, device, life]  "
      ]
     },
     "execution_count": 15,
     "metadata": {},
     "output_type": "execute_result"
    }
   ],
   "source": [
    "finaldf.head()"
   ]
  },
  {
   "cell_type": "code",
   "execution_count": 16,
   "metadata": {},
   "outputs": [],
   "source": [
    "finaldf.to_csv('cleanedTweetText.csv', sep=',', encoding='utf-8')"
   ]
  },
  {
   "cell_type": "code",
   "execution_count": null,
   "metadata": {},
   "outputs": [],
   "source": []
  }
 ],
 "metadata": {
  "kernelspec": {
   "display_name": "CoronavirusTopicModeling",
   "language": "python",
   "name": "coronavirustopicmodeling"
  },
  "language_info": {
   "codemirror_mode": {
    "name": "ipython",
    "version": 3
   },
   "file_extension": ".py",
   "mimetype": "text/x-python",
   "name": "python",
   "nbconvert_exporter": "python",
   "pygments_lexer": "ipython3",
   "version": "3.7.7"
  }
 },
 "nbformat": 4,
 "nbformat_minor": 4
}
